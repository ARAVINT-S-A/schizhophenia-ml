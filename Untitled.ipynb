{
 "cells": [
  {
   "cell_type": "code",
   "execution_count": 269,
   "id": "1c09605a",
   "metadata": {},
   "outputs": [],
   "source": [
    "import pandas as pd\n",
    "import numpy as np\n"
   ]
  },
  {
   "cell_type": "code",
   "execution_count": 270,
   "id": "46677106",
   "metadata": {},
   "outputs": [],
   "source": [
    "data = pd.read_csv('/home/aravint/vscode/ERPdata.csv')"
   ]
  },
  {
   "cell_type": "code",
   "execution_count": 271,
   "id": "102ef6b3",
   "metadata": {},
   "outputs": [
    {
     "data": {
      "text/html": [
       "<div>\n",
       "<style scoped>\n",
       "    .dataframe tbody tr th:only-of-type {\n",
       "        vertical-align: middle;\n",
       "    }\n",
       "\n",
       "    .dataframe tbody tr th {\n",
       "        vertical-align: top;\n",
       "    }\n",
       "\n",
       "    .dataframe thead th {\n",
       "        text-align: right;\n",
       "    }\n",
       "</style>\n",
       "<table border=\"1\" class=\"dataframe\">\n",
       "  <thead>\n",
       "    <tr style=\"text-align: right;\">\n",
       "      <th></th>\n",
       "      <th>subject</th>\n",
       "      <th>condition</th>\n",
       "      <th>Fz</th>\n",
       "      <th>FCz</th>\n",
       "      <th>Cz</th>\n",
       "      <th>FC3</th>\n",
       "      <th>FC4</th>\n",
       "      <th>C3</th>\n",
       "      <th>C4</th>\n",
       "      <th>CP3</th>\n",
       "      <th>CP4</th>\n",
       "      <th>time_ms</th>\n",
       "    </tr>\n",
       "  </thead>\n",
       "  <tbody>\n",
       "    <tr>\n",
       "      <th>0</th>\n",
       "      <td>1</td>\n",
       "      <td>1</td>\n",
       "      <td>5.533701</td>\n",
       "      <td>5.726507</td>\n",
       "      <td>5.469535</td>\n",
       "      <td>5.386723</td>\n",
       "      <td>4.588875</td>\n",
       "      <td>6.560092</td>\n",
       "      <td>4.542811</td>\n",
       "      <td>5.397492</td>\n",
       "      <td>5.103695</td>\n",
       "      <td>-1500.0000</td>\n",
       "    </tr>\n",
       "    <tr>\n",
       "      <th>1</th>\n",
       "      <td>1</td>\n",
       "      <td>1</td>\n",
       "      <td>5.651489</td>\n",
       "      <td>5.837326</td>\n",
       "      <td>5.773131</td>\n",
       "      <td>5.627975</td>\n",
       "      <td>4.822217</td>\n",
       "      <td>6.739976</td>\n",
       "      <td>4.811770</td>\n",
       "      <td>5.541357</td>\n",
       "      <td>5.379273</td>\n",
       "      <td>-1499.0234</td>\n",
       "    </tr>\n",
       "    <tr>\n",
       "      <th>2</th>\n",
       "      <td>1</td>\n",
       "      <td>1</td>\n",
       "      <td>5.717580</td>\n",
       "      <td>5.932924</td>\n",
       "      <td>5.948466</td>\n",
       "      <td>5.826460</td>\n",
       "      <td>4.979647</td>\n",
       "      <td>7.026199</td>\n",
       "      <td>5.053779</td>\n",
       "      <td>5.634972</td>\n",
       "      <td>5.600504</td>\n",
       "      <td>-1498.0469</td>\n",
       "    </tr>\n",
       "    <tr>\n",
       "      <th>3</th>\n",
       "      <td>1</td>\n",
       "      <td>1</td>\n",
       "      <td>5.703267</td>\n",
       "      <td>5.968103</td>\n",
       "      <td>5.851512</td>\n",
       "      <td>5.812192</td>\n",
       "      <td>4.992899</td>\n",
       "      <td>6.940671</td>\n",
       "      <td>5.106650</td>\n",
       "      <td>5.543577</td>\n",
       "      <td>5.589775</td>\n",
       "      <td>-1497.0703</td>\n",
       "    </tr>\n",
       "    <tr>\n",
       "      <th>4</th>\n",
       "      <td>1</td>\n",
       "      <td>1</td>\n",
       "      <td>5.571578</td>\n",
       "      <td>5.917541</td>\n",
       "      <td>5.812808</td>\n",
       "      <td>5.744715</td>\n",
       "      <td>4.963338</td>\n",
       "      <td>6.726491</td>\n",
       "      <td>5.158073</td>\n",
       "      <td>5.454069</td>\n",
       "      <td>5.614092</td>\n",
       "      <td>-1496.0938</td>\n",
       "    </tr>\n",
       "    <tr>\n",
       "      <th>5</th>\n",
       "      <td>1</td>\n",
       "      <td>1</td>\n",
       "      <td>5.603920</td>\n",
       "      <td>5.981694</td>\n",
       "      <td>5.987591</td>\n",
       "      <td>5.716794</td>\n",
       "      <td>4.971512</td>\n",
       "      <td>6.765458</td>\n",
       "      <td>5.258815</td>\n",
       "      <td>5.530551</td>\n",
       "      <td>5.767551</td>\n",
       "      <td>-1495.1172</td>\n",
       "    </tr>\n",
       "    <tr>\n",
       "      <th>6</th>\n",
       "      <td>1</td>\n",
       "      <td>1</td>\n",
       "      <td>5.532427</td>\n",
       "      <td>5.868827</td>\n",
       "      <td>5.928261</td>\n",
       "      <td>5.485871</td>\n",
       "      <td>4.770025</td>\n",
       "      <td>6.560195</td>\n",
       "      <td>5.137796</td>\n",
       "      <td>5.454708</td>\n",
       "      <td>5.665808</td>\n",
       "      <td>-1494.1406</td>\n",
       "    </tr>\n",
       "    <tr>\n",
       "      <th>7</th>\n",
       "      <td>1</td>\n",
       "      <td>1</td>\n",
       "      <td>5.037233</td>\n",
       "      <td>5.376776</td>\n",
       "      <td>5.388364</td>\n",
       "      <td>5.067753</td>\n",
       "      <td>4.246841</td>\n",
       "      <td>6.028313</td>\n",
       "      <td>4.567743</td>\n",
       "      <td>4.920781</td>\n",
       "      <td>5.148974</td>\n",
       "      <td>-1493.1641</td>\n",
       "    </tr>\n",
       "    <tr>\n",
       "      <th>8</th>\n",
       "      <td>1</td>\n",
       "      <td>1</td>\n",
       "      <td>4.805524</td>\n",
       "      <td>5.227869</td>\n",
       "      <td>5.314371</td>\n",
       "      <td>4.828855</td>\n",
       "      <td>4.154002</td>\n",
       "      <td>5.762006</td>\n",
       "      <td>4.403780</td>\n",
       "      <td>4.618297</td>\n",
       "      <td>5.002132</td>\n",
       "      <td>-1492.1875</td>\n",
       "    </tr>\n",
       "    <tr>\n",
       "      <th>9</th>\n",
       "      <td>1</td>\n",
       "      <td>1</td>\n",
       "      <td>4.945930</td>\n",
       "      <td>5.424733</td>\n",
       "      <td>5.556252</td>\n",
       "      <td>4.883093</td>\n",
       "      <td>4.296878</td>\n",
       "      <td>5.708236</td>\n",
       "      <td>4.511347</td>\n",
       "      <td>4.674548</td>\n",
       "      <td>5.048159</td>\n",
       "      <td>-1491.2109</td>\n",
       "    </tr>\n",
       "    <tr>\n",
       "      <th>10</th>\n",
       "      <td>1</td>\n",
       "      <td>1</td>\n",
       "      <td>5.010282</td>\n",
       "      <td>5.429336</td>\n",
       "      <td>5.484501</td>\n",
       "      <td>4.948476</td>\n",
       "      <td>4.248864</td>\n",
       "      <td>5.730685</td>\n",
       "      <td>4.428750</td>\n",
       "      <td>4.711510</td>\n",
       "      <td>4.939684</td>\n",
       "      <td>-1490.2344</td>\n",
       "    </tr>\n",
       "    <tr>\n",
       "      <th>11</th>\n",
       "      <td>1</td>\n",
       "      <td>1</td>\n",
       "      <td>5.025553</td>\n",
       "      <td>5.409663</td>\n",
       "      <td>5.629662</td>\n",
       "      <td>5.009281</td>\n",
       "      <td>4.186085</td>\n",
       "      <td>6.029467</td>\n",
       "      <td>4.544341</td>\n",
       "      <td>4.836121</td>\n",
       "      <td>5.102511</td>\n",
       "      <td>-1489.2578</td>\n",
       "    </tr>\n",
       "    <tr>\n",
       "      <th>12</th>\n",
       "      <td>1</td>\n",
       "      <td>1</td>\n",
       "      <td>5.170003</td>\n",
       "      <td>5.556943</td>\n",
       "      <td>5.893341</td>\n",
       "      <td>5.079377</td>\n",
       "      <td>4.336973</td>\n",
       "      <td>6.142593</td>\n",
       "      <td>4.771001</td>\n",
       "      <td>4.943649</td>\n",
       "      <td>5.248514</td>\n",
       "      <td>-1488.2813</td>\n",
       "    </tr>\n",
       "    <tr>\n",
       "      <th>13</th>\n",
       "      <td>1</td>\n",
       "      <td>1</td>\n",
       "      <td>5.588845</td>\n",
       "      <td>6.007068</td>\n",
       "      <td>6.240553</td>\n",
       "      <td>5.359810</td>\n",
       "      <td>4.857432</td>\n",
       "      <td>6.415529</td>\n",
       "      <td>5.102500</td>\n",
       "      <td>5.256440</td>\n",
       "      <td>5.518149</td>\n",
       "      <td>-1487.3047</td>\n",
       "    </tr>\n",
       "    <tr>\n",
       "      <th>14</th>\n",
       "      <td>1</td>\n",
       "      <td>1</td>\n",
       "      <td>5.959593</td>\n",
       "      <td>6.384038</td>\n",
       "      <td>6.531664</td>\n",
       "      <td>5.653570</td>\n",
       "      <td>5.301817</td>\n",
       "      <td>6.833048</td>\n",
       "      <td>5.509748</td>\n",
       "      <td>5.472100</td>\n",
       "      <td>5.958486</td>\n",
       "      <td>-1486.3281</td>\n",
       "    </tr>\n",
       "    <tr>\n",
       "      <th>15</th>\n",
       "      <td>1</td>\n",
       "      <td>1</td>\n",
       "      <td>6.250819</td>\n",
       "      <td>6.721394</td>\n",
       "      <td>6.824545</td>\n",
       "      <td>5.955840</td>\n",
       "      <td>5.645496</td>\n",
       "      <td>7.127976</td>\n",
       "      <td>5.851612</td>\n",
       "      <td>5.610717</td>\n",
       "      <td>6.290892</td>\n",
       "      <td>-1485.3516</td>\n",
       "    </tr>\n",
       "    <tr>\n",
       "      <th>16</th>\n",
       "      <td>1</td>\n",
       "      <td>1</td>\n",
       "      <td>6.629317</td>\n",
       "      <td>7.108529</td>\n",
       "      <td>7.208838</td>\n",
       "      <td>6.283223</td>\n",
       "      <td>6.092736</td>\n",
       "      <td>7.478772</td>\n",
       "      <td>6.123654</td>\n",
       "      <td>5.796571</td>\n",
       "      <td>6.487365</td>\n",
       "      <td>-1484.3750</td>\n",
       "    </tr>\n",
       "    <tr>\n",
       "      <th>17</th>\n",
       "      <td>1</td>\n",
       "      <td>1</td>\n",
       "      <td>6.745827</td>\n",
       "      <td>7.208575</td>\n",
       "      <td>7.224784</td>\n",
       "      <td>6.243806</td>\n",
       "      <td>6.205777</td>\n",
       "      <td>7.571029</td>\n",
       "      <td>6.106204</td>\n",
       "      <td>5.689875</td>\n",
       "      <td>6.471760</td>\n",
       "      <td>-1483.3984</td>\n",
       "    </tr>\n",
       "    <tr>\n",
       "      <th>18</th>\n",
       "      <td>1</td>\n",
       "      <td>1</td>\n",
       "      <td>6.758221</td>\n",
       "      <td>7.320297</td>\n",
       "      <td>7.371696</td>\n",
       "      <td>6.268778</td>\n",
       "      <td>6.181693</td>\n",
       "      <td>7.591568</td>\n",
       "      <td>6.161618</td>\n",
       "      <td>5.719293</td>\n",
       "      <td>6.579548</td>\n",
       "      <td>-1482.4219</td>\n",
       "    </tr>\n",
       "    <tr>\n",
       "      <th>19</th>\n",
       "      <td>1</td>\n",
       "      <td>1</td>\n",
       "      <td>6.527473</td>\n",
       "      <td>7.131613</td>\n",
       "      <td>7.202410</td>\n",
       "      <td>6.143446</td>\n",
       "      <td>5.916313</td>\n",
       "      <td>7.443049</td>\n",
       "      <td>5.965696</td>\n",
       "      <td>5.639147</td>\n",
       "      <td>6.385889</td>\n",
       "      <td>-1481.4453</td>\n",
       "    </tr>\n",
       "  </tbody>\n",
       "</table>\n",
       "</div>"
      ],
      "text/plain": [
       "    subject  condition        Fz       FCz        Cz       FC3       FC4  \\\n",
       "0         1          1  5.533701  5.726507  5.469535  5.386723  4.588875   \n",
       "1         1          1  5.651489  5.837326  5.773131  5.627975  4.822217   \n",
       "2         1          1  5.717580  5.932924  5.948466  5.826460  4.979647   \n",
       "3         1          1  5.703267  5.968103  5.851512  5.812192  4.992899   \n",
       "4         1          1  5.571578  5.917541  5.812808  5.744715  4.963338   \n",
       "5         1          1  5.603920  5.981694  5.987591  5.716794  4.971512   \n",
       "6         1          1  5.532427  5.868827  5.928261  5.485871  4.770025   \n",
       "7         1          1  5.037233  5.376776  5.388364  5.067753  4.246841   \n",
       "8         1          1  4.805524  5.227869  5.314371  4.828855  4.154002   \n",
       "9         1          1  4.945930  5.424733  5.556252  4.883093  4.296878   \n",
       "10        1          1  5.010282  5.429336  5.484501  4.948476  4.248864   \n",
       "11        1          1  5.025553  5.409663  5.629662  5.009281  4.186085   \n",
       "12        1          1  5.170003  5.556943  5.893341  5.079377  4.336973   \n",
       "13        1          1  5.588845  6.007068  6.240553  5.359810  4.857432   \n",
       "14        1          1  5.959593  6.384038  6.531664  5.653570  5.301817   \n",
       "15        1          1  6.250819  6.721394  6.824545  5.955840  5.645496   \n",
       "16        1          1  6.629317  7.108529  7.208838  6.283223  6.092736   \n",
       "17        1          1  6.745827  7.208575  7.224784  6.243806  6.205777   \n",
       "18        1          1  6.758221  7.320297  7.371696  6.268778  6.181693   \n",
       "19        1          1  6.527473  7.131613  7.202410  6.143446  5.916313   \n",
       "\n",
       "          C3        C4       CP3       CP4    time_ms  \n",
       "0   6.560092  4.542811  5.397492  5.103695 -1500.0000  \n",
       "1   6.739976  4.811770  5.541357  5.379273 -1499.0234  \n",
       "2   7.026199  5.053779  5.634972  5.600504 -1498.0469  \n",
       "3   6.940671  5.106650  5.543577  5.589775 -1497.0703  \n",
       "4   6.726491  5.158073  5.454069  5.614092 -1496.0938  \n",
       "5   6.765458  5.258815  5.530551  5.767551 -1495.1172  \n",
       "6   6.560195  5.137796  5.454708  5.665808 -1494.1406  \n",
       "7   6.028313  4.567743  4.920781  5.148974 -1493.1641  \n",
       "8   5.762006  4.403780  4.618297  5.002132 -1492.1875  \n",
       "9   5.708236  4.511347  4.674548  5.048159 -1491.2109  \n",
       "10  5.730685  4.428750  4.711510  4.939684 -1490.2344  \n",
       "11  6.029467  4.544341  4.836121  5.102511 -1489.2578  \n",
       "12  6.142593  4.771001  4.943649  5.248514 -1488.2813  \n",
       "13  6.415529  5.102500  5.256440  5.518149 -1487.3047  \n",
       "14  6.833048  5.509748  5.472100  5.958486 -1486.3281  \n",
       "15  7.127976  5.851612  5.610717  6.290892 -1485.3516  \n",
       "16  7.478772  6.123654  5.796571  6.487365 -1484.3750  \n",
       "17  7.571029  6.106204  5.689875  6.471760 -1483.3984  \n",
       "18  7.591568  6.161618  5.719293  6.579548 -1482.4219  \n",
       "19  7.443049  5.965696  5.639147  6.385889 -1481.4453  "
      ]
     },
     "execution_count": 271,
     "metadata": {},
     "output_type": "execute_result"
    }
   ],
   "source": [
    "data.head(20)"
   ]
  },
  {
   "cell_type": "code",
   "execution_count": 272,
   "id": "82a88712",
   "metadata": {},
   "outputs": [
    {
     "data": {
      "text/html": [
       "<div>\n",
       "<style scoped>\n",
       "    .dataframe tbody tr th:only-of-type {\n",
       "        vertical-align: middle;\n",
       "    }\n",
       "\n",
       "    .dataframe tbody tr th {\n",
       "        vertical-align: top;\n",
       "    }\n",
       "\n",
       "    .dataframe thead th {\n",
       "        text-align: right;\n",
       "    }\n",
       "</style>\n",
       "<table border=\"1\" class=\"dataframe\">\n",
       "  <thead>\n",
       "    <tr style=\"text-align: right;\">\n",
       "      <th></th>\n",
       "      <th>subject</th>\n",
       "      <th>condition</th>\n",
       "      <th>Fz</th>\n",
       "      <th>FCz</th>\n",
       "      <th>Cz</th>\n",
       "      <th>FC3</th>\n",
       "      <th>FC4</th>\n",
       "      <th>C3</th>\n",
       "      <th>C4</th>\n",
       "      <th>CP3</th>\n",
       "      <th>CP4</th>\n",
       "      <th>time_ms</th>\n",
       "    </tr>\n",
       "  </thead>\n",
       "  <tbody>\n",
       "    <tr>\n",
       "      <th>count</th>\n",
       "      <td>746496.00000</td>\n",
       "      <td>746496.000000</td>\n",
       "      <td>746496.000000</td>\n",
       "      <td>746496.000000</td>\n",
       "      <td>746496.000000</td>\n",
       "      <td>746496.000000</td>\n",
       "      <td>746496.000000</td>\n",
       "      <td>746496.000000</td>\n",
       "      <td>746496.000000</td>\n",
       "      <td>746496.000000</td>\n",
       "      <td>746496.000000</td>\n",
       "      <td>746496.000000</td>\n",
       "    </tr>\n",
       "    <tr>\n",
       "      <th>mean</th>\n",
       "      <td>41.00000</td>\n",
       "      <td>2.000000</td>\n",
       "      <td>0.474356</td>\n",
       "      <td>0.770428</td>\n",
       "      <td>0.975094</td>\n",
       "      <td>0.708243</td>\n",
       "      <td>0.506167</td>\n",
       "      <td>0.906176</td>\n",
       "      <td>0.585098</td>\n",
       "      <td>0.753679</td>\n",
       "      <td>0.589929</td>\n",
       "      <td>-0.488281</td>\n",
       "    </tr>\n",
       "    <tr>\n",
       "      <th>std</th>\n",
       "      <td>23.38092</td>\n",
       "      <td>0.816497</td>\n",
       "      <td>2.615844</td>\n",
       "      <td>2.460129</td>\n",
       "      <td>2.486899</td>\n",
       "      <td>2.204775</td>\n",
       "      <td>2.105947</td>\n",
       "      <td>2.288293</td>\n",
       "      <td>2.064552</td>\n",
       "      <td>2.194443</td>\n",
       "      <td>2.190417</td>\n",
       "      <td>866.025943</td>\n",
       "    </tr>\n",
       "    <tr>\n",
       "      <th>min</th>\n",
       "      <td>1.00000</td>\n",
       "      <td>1.000000</td>\n",
       "      <td>-24.450370</td>\n",
       "      <td>-13.313033</td>\n",
       "      <td>-12.661285</td>\n",
       "      <td>-12.461982</td>\n",
       "      <td>-12.161722</td>\n",
       "      <td>-13.735528</td>\n",
       "      <td>-15.376662</td>\n",
       "      <td>-10.234719</td>\n",
       "      <td>-15.120635</td>\n",
       "      <td>-1500.000000</td>\n",
       "    </tr>\n",
       "    <tr>\n",
       "      <th>25%</th>\n",
       "      <td>21.00000</td>\n",
       "      <td>1.000000</td>\n",
       "      <td>-0.804794</td>\n",
       "      <td>-0.690926</td>\n",
       "      <td>-0.553950</td>\n",
       "      <td>-0.559768</td>\n",
       "      <td>-0.640173</td>\n",
       "      <td>-0.414116</td>\n",
       "      <td>-0.594791</td>\n",
       "      <td>-0.505312</td>\n",
       "      <td>-0.604645</td>\n",
       "      <td>-750.244150</td>\n",
       "    </tr>\n",
       "    <tr>\n",
       "      <th>50%</th>\n",
       "      <td>41.00000</td>\n",
       "      <td>2.000000</td>\n",
       "      <td>0.316864</td>\n",
       "      <td>0.525377</td>\n",
       "      <td>0.634382</td>\n",
       "      <td>0.475436</td>\n",
       "      <td>0.351833</td>\n",
       "      <td>0.648493</td>\n",
       "      <td>0.433138</td>\n",
       "      <td>0.607750</td>\n",
       "      <td>0.458142</td>\n",
       "      <td>-0.488300</td>\n",
       "    </tr>\n",
       "    <tr>\n",
       "      <th>75%</th>\n",
       "      <td>61.00000</td>\n",
       "      <td>3.000000</td>\n",
       "      <td>1.625080</td>\n",
       "      <td>1.999033</td>\n",
       "      <td>2.227423</td>\n",
       "      <td>1.812084</td>\n",
       "      <td>1.567683</td>\n",
       "      <td>2.063341</td>\n",
       "      <td>1.673550</td>\n",
       "      <td>1.920492</td>\n",
       "      <td>1.709623</td>\n",
       "      <td>749.267550</td>\n",
       "    </tr>\n",
       "    <tr>\n",
       "      <th>max</th>\n",
       "      <td>81.00000</td>\n",
       "      <td>3.000000</td>\n",
       "      <td>28.052302</td>\n",
       "      <td>16.870169</td>\n",
       "      <td>15.110261</td>\n",
       "      <td>20.009208</td>\n",
       "      <td>19.165767</td>\n",
       "      <td>18.806053</td>\n",
       "      <td>20.744991</td>\n",
       "      <td>16.881090</td>\n",
       "      <td>23.267924</td>\n",
       "      <td>1499.023400</td>\n",
       "    </tr>\n",
       "  </tbody>\n",
       "</table>\n",
       "</div>"
      ],
      "text/plain": [
       "            subject      condition             Fz            FCz  \\\n",
       "count  746496.00000  746496.000000  746496.000000  746496.000000   \n",
       "mean       41.00000       2.000000       0.474356       0.770428   \n",
       "std        23.38092       0.816497       2.615844       2.460129   \n",
       "min         1.00000       1.000000     -24.450370     -13.313033   \n",
       "25%        21.00000       1.000000      -0.804794      -0.690926   \n",
       "50%        41.00000       2.000000       0.316864       0.525377   \n",
       "75%        61.00000       3.000000       1.625080       1.999033   \n",
       "max        81.00000       3.000000      28.052302      16.870169   \n",
       "\n",
       "                  Cz            FC3            FC4             C3  \\\n",
       "count  746496.000000  746496.000000  746496.000000  746496.000000   \n",
       "mean        0.975094       0.708243       0.506167       0.906176   \n",
       "std         2.486899       2.204775       2.105947       2.288293   \n",
       "min       -12.661285     -12.461982     -12.161722     -13.735528   \n",
       "25%        -0.553950      -0.559768      -0.640173      -0.414116   \n",
       "50%         0.634382       0.475436       0.351833       0.648493   \n",
       "75%         2.227423       1.812084       1.567683       2.063341   \n",
       "max        15.110261      20.009208      19.165767      18.806053   \n",
       "\n",
       "                  C4            CP3            CP4        time_ms  \n",
       "count  746496.000000  746496.000000  746496.000000  746496.000000  \n",
       "mean        0.585098       0.753679       0.589929      -0.488281  \n",
       "std         2.064552       2.194443       2.190417     866.025943  \n",
       "min       -15.376662     -10.234719     -15.120635   -1500.000000  \n",
       "25%        -0.594791      -0.505312      -0.604645    -750.244150  \n",
       "50%         0.433138       0.607750       0.458142      -0.488300  \n",
       "75%         1.673550       1.920492       1.709623     749.267550  \n",
       "max        20.744991      16.881090      23.267924    1499.023400  "
      ]
     },
     "execution_count": 272,
     "metadata": {},
     "output_type": "execute_result"
    }
   ],
   "source": [
    "data.describe()"
   ]
  },
  {
   "cell_type": "code",
   "execution_count": 273,
   "id": "1b4c6555",
   "metadata": {},
   "outputs": [
    {
     "name": "stdout",
     "output_type": "stream",
     "text": [
      "<class 'pandas.core.frame.DataFrame'>\n",
      "RangeIndex: 746496 entries, 0 to 746495\n",
      "Data columns (total 12 columns):\n",
      " #   Column     Non-Null Count   Dtype  \n",
      "---  ------     --------------   -----  \n",
      " 0   subject    746496 non-null  int64  \n",
      " 1   condition  746496 non-null  int64  \n",
      " 2   Fz         746496 non-null  float64\n",
      " 3   FCz        746496 non-null  float64\n",
      " 4   Cz         746496 non-null  float64\n",
      " 5   FC3        746496 non-null  float64\n",
      " 6   FC4        746496 non-null  float64\n",
      " 7   C3         746496 non-null  float64\n",
      " 8   C4         746496 non-null  float64\n",
      " 9   CP3        746496 non-null  float64\n",
      " 10  CP4        746496 non-null  float64\n",
      " 11  time_ms    746496 non-null  float64\n",
      "dtypes: float64(10), int64(2)\n",
      "memory usage: 68.3 MB\n"
     ]
    }
   ],
   "source": [
    "data.info()"
   ]
  },
  {
   "cell_type": "code",
   "execution_count": 274,
   "id": "aaf44814",
   "metadata": {},
   "outputs": [],
   "source": [
    "data.drop('time_ms', axis=1, inplace=True)"
   ]
  },
  {
   "cell_type": "code",
   "execution_count": 275,
   "id": "c212a82f",
   "metadata": {},
   "outputs": [
    {
     "data": {
      "text/html": [
       "<div>\n",
       "<style scoped>\n",
       "    .dataframe tbody tr th:only-of-type {\n",
       "        vertical-align: middle;\n",
       "    }\n",
       "\n",
       "    .dataframe tbody tr th {\n",
       "        vertical-align: top;\n",
       "    }\n",
       "\n",
       "    .dataframe thead th {\n",
       "        text-align: right;\n",
       "    }\n",
       "</style>\n",
       "<table border=\"1\" class=\"dataframe\">\n",
       "  <thead>\n",
       "    <tr style=\"text-align: right;\">\n",
       "      <th></th>\n",
       "      <th>subject</th>\n",
       "      <th>condition</th>\n",
       "      <th>Fz</th>\n",
       "      <th>FCz</th>\n",
       "      <th>Cz</th>\n",
       "      <th>FC3</th>\n",
       "      <th>FC4</th>\n",
       "      <th>C3</th>\n",
       "      <th>C4</th>\n",
       "      <th>CP3</th>\n",
       "      <th>CP4</th>\n",
       "    </tr>\n",
       "  </thead>\n",
       "  <tbody>\n",
       "    <tr>\n",
       "      <th>0</th>\n",
       "      <td>1</td>\n",
       "      <td>1</td>\n",
       "      <td>5.533701</td>\n",
       "      <td>5.726507</td>\n",
       "      <td>5.469535</td>\n",
       "      <td>5.386723</td>\n",
       "      <td>4.588875</td>\n",
       "      <td>6.560092</td>\n",
       "      <td>4.542811</td>\n",
       "      <td>5.397492</td>\n",
       "      <td>5.103695</td>\n",
       "    </tr>\n",
       "    <tr>\n",
       "      <th>1</th>\n",
       "      <td>1</td>\n",
       "      <td>1</td>\n",
       "      <td>5.651489</td>\n",
       "      <td>5.837326</td>\n",
       "      <td>5.773131</td>\n",
       "      <td>5.627975</td>\n",
       "      <td>4.822217</td>\n",
       "      <td>6.739976</td>\n",
       "      <td>4.811770</td>\n",
       "      <td>5.541357</td>\n",
       "      <td>5.379273</td>\n",
       "    </tr>\n",
       "    <tr>\n",
       "      <th>2</th>\n",
       "      <td>1</td>\n",
       "      <td>1</td>\n",
       "      <td>5.717580</td>\n",
       "      <td>5.932924</td>\n",
       "      <td>5.948466</td>\n",
       "      <td>5.826460</td>\n",
       "      <td>4.979647</td>\n",
       "      <td>7.026199</td>\n",
       "      <td>5.053779</td>\n",
       "      <td>5.634972</td>\n",
       "      <td>5.600504</td>\n",
       "    </tr>\n",
       "    <tr>\n",
       "      <th>3</th>\n",
       "      <td>1</td>\n",
       "      <td>1</td>\n",
       "      <td>5.703267</td>\n",
       "      <td>5.968103</td>\n",
       "      <td>5.851512</td>\n",
       "      <td>5.812192</td>\n",
       "      <td>4.992899</td>\n",
       "      <td>6.940671</td>\n",
       "      <td>5.106650</td>\n",
       "      <td>5.543577</td>\n",
       "      <td>5.589775</td>\n",
       "    </tr>\n",
       "    <tr>\n",
       "      <th>4</th>\n",
       "      <td>1</td>\n",
       "      <td>1</td>\n",
       "      <td>5.571578</td>\n",
       "      <td>5.917541</td>\n",
       "      <td>5.812808</td>\n",
       "      <td>5.744715</td>\n",
       "      <td>4.963338</td>\n",
       "      <td>6.726491</td>\n",
       "      <td>5.158073</td>\n",
       "      <td>5.454069</td>\n",
       "      <td>5.614092</td>\n",
       "    </tr>\n",
       "  </tbody>\n",
       "</table>\n",
       "</div>"
      ],
      "text/plain": [
       "   subject  condition        Fz       FCz        Cz       FC3       FC4  \\\n",
       "0        1          1  5.533701  5.726507  5.469535  5.386723  4.588875   \n",
       "1        1          1  5.651489  5.837326  5.773131  5.627975  4.822217   \n",
       "2        1          1  5.717580  5.932924  5.948466  5.826460  4.979647   \n",
       "3        1          1  5.703267  5.968103  5.851512  5.812192  4.992899   \n",
       "4        1          1  5.571578  5.917541  5.812808  5.744715  4.963338   \n",
       "\n",
       "         C3        C4       CP3       CP4  \n",
       "0  6.560092  4.542811  5.397492  5.103695  \n",
       "1  6.739976  4.811770  5.541357  5.379273  \n",
       "2  7.026199  5.053779  5.634972  5.600504  \n",
       "3  6.940671  5.106650  5.543577  5.589775  \n",
       "4  6.726491  5.158073  5.454069  5.614092  "
      ]
     },
     "execution_count": 275,
     "metadata": {},
     "output_type": "execute_result"
    }
   ],
   "source": [
    "data.head()"
   ]
  },
  {
   "cell_type": "code",
   "execution_count": 276,
   "id": "e867c67e",
   "metadata": {},
   "outputs": [],
   "source": [
    "from sklearn.preprocessing import StandardScaler"
   ]
  },
  {
   "cell_type": "code",
   "execution_count": 277,
   "id": "9e9c3c33",
   "metadata": {},
   "outputs": [],
   "source": [
    "scaler = StandardScaler()"
   ]
  },
  {
   "cell_type": "code",
   "execution_count": 278,
   "id": "e9c92529",
   "metadata": {},
   "outputs": [
    {
     "data": {
      "text/html": [
       "<style>#sk-container-id-17 {color: black;background-color: white;}#sk-container-id-17 pre{padding: 0;}#sk-container-id-17 div.sk-toggleable {background-color: white;}#sk-container-id-17 label.sk-toggleable__label {cursor: pointer;display: block;width: 100%;margin-bottom: 0;padding: 0.3em;box-sizing: border-box;text-align: center;}#sk-container-id-17 label.sk-toggleable__label-arrow:before {content: \"▸\";float: left;margin-right: 0.25em;color: #696969;}#sk-container-id-17 label.sk-toggleable__label-arrow:hover:before {color: black;}#sk-container-id-17 div.sk-estimator:hover label.sk-toggleable__label-arrow:before {color: black;}#sk-container-id-17 div.sk-toggleable__content {max-height: 0;max-width: 0;overflow: hidden;text-align: left;background-color: #f0f8ff;}#sk-container-id-17 div.sk-toggleable__content pre {margin: 0.2em;color: black;border-radius: 0.25em;background-color: #f0f8ff;}#sk-container-id-17 input.sk-toggleable__control:checked~div.sk-toggleable__content {max-height: 200px;max-width: 100%;overflow: auto;}#sk-container-id-17 input.sk-toggleable__control:checked~label.sk-toggleable__label-arrow:before {content: \"▾\";}#sk-container-id-17 div.sk-estimator input.sk-toggleable__control:checked~label.sk-toggleable__label {background-color: #d4ebff;}#sk-container-id-17 div.sk-label input.sk-toggleable__control:checked~label.sk-toggleable__label {background-color: #d4ebff;}#sk-container-id-17 input.sk-hidden--visually {border: 0;clip: rect(1px 1px 1px 1px);clip: rect(1px, 1px, 1px, 1px);height: 1px;margin: -1px;overflow: hidden;padding: 0;position: absolute;width: 1px;}#sk-container-id-17 div.sk-estimator {font-family: monospace;background-color: #f0f8ff;border: 1px dotted black;border-radius: 0.25em;box-sizing: border-box;margin-bottom: 0.5em;}#sk-container-id-17 div.sk-estimator:hover {background-color: #d4ebff;}#sk-container-id-17 div.sk-parallel-item::after {content: \"\";width: 100%;border-bottom: 1px solid gray;flex-grow: 1;}#sk-container-id-17 div.sk-label:hover label.sk-toggleable__label {background-color: #d4ebff;}#sk-container-id-17 div.sk-serial::before {content: \"\";position: absolute;border-left: 1px solid gray;box-sizing: border-box;top: 0;bottom: 0;left: 50%;z-index: 0;}#sk-container-id-17 div.sk-serial {display: flex;flex-direction: column;align-items: center;background-color: white;padding-right: 0.2em;padding-left: 0.2em;position: relative;}#sk-container-id-17 div.sk-item {position: relative;z-index: 1;}#sk-container-id-17 div.sk-parallel {display: flex;align-items: stretch;justify-content: center;background-color: white;position: relative;}#sk-container-id-17 div.sk-item::before, #sk-container-id-17 div.sk-parallel-item::before {content: \"\";position: absolute;border-left: 1px solid gray;box-sizing: border-box;top: 0;bottom: 0;left: 50%;z-index: -1;}#sk-container-id-17 div.sk-parallel-item {display: flex;flex-direction: column;z-index: 1;position: relative;background-color: white;}#sk-container-id-17 div.sk-parallel-item:first-child::after {align-self: flex-end;width: 50%;}#sk-container-id-17 div.sk-parallel-item:last-child::after {align-self: flex-start;width: 50%;}#sk-container-id-17 div.sk-parallel-item:only-child::after {width: 0;}#sk-container-id-17 div.sk-dashed-wrapped {border: 1px dashed gray;margin: 0 0.4em 0.5em 0.4em;box-sizing: border-box;padding-bottom: 0.4em;background-color: white;}#sk-container-id-17 div.sk-label label {font-family: monospace;font-weight: bold;display: inline-block;line-height: 1.2em;}#sk-container-id-17 div.sk-label-container {text-align: center;}#sk-container-id-17 div.sk-container {/* jupyter's `normalize.less` sets `[hidden] { display: none; }` but bootstrap.min.css set `[hidden] { display: none !important; }` so we also need the `!important` here to be able to override the default hidden behavior on the sphinx rendered scikit-learn.org. See: https://github.com/scikit-learn/scikit-learn/issues/21755 */display: inline-block !important;position: relative;}#sk-container-id-17 div.sk-text-repr-fallback {display: none;}</style><div id=\"sk-container-id-17\" class=\"sk-top-container\"><div class=\"sk-text-repr-fallback\"><pre>StandardScaler()</pre><b>In a Jupyter environment, please rerun this cell to show the HTML representation or trust the notebook. <br />On GitHub, the HTML representation is unable to render, please try loading this page with nbviewer.org.</b></div><div class=\"sk-container\" hidden><div class=\"sk-item\"><div class=\"sk-estimator sk-toggleable\"><input class=\"sk-toggleable__control sk-hidden--visually\" id=\"sk-estimator-id-17\" type=\"checkbox\" checked><label for=\"sk-estimator-id-17\" class=\"sk-toggleable__label sk-toggleable__label-arrow\">StandardScaler</label><div class=\"sk-toggleable__content\"><pre>StandardScaler()</pre></div></div></div></div></div>"
      ],
      "text/plain": [
       "StandardScaler()"
      ]
     },
     "execution_count": 278,
     "metadata": {},
     "output_type": "execute_result"
    }
   ],
   "source": [
    "scaler.fit(data.drop(['condition', 'subject'], axis=1))"
   ]
  },
  {
   "cell_type": "code",
   "execution_count": 279,
   "id": "0bd8fd81",
   "metadata": {},
   "outputs": [],
   "source": [
    "scaled_data = scaler.transform(data.drop(['condition', 'subject'], axis=1))"
   ]
  },
  {
   "cell_type": "code",
   "execution_count": 280,
   "id": "e4254245",
   "metadata": {},
   "outputs": [
    {
     "data": {
      "text/html": [
       "<div>\n",
       "<style scoped>\n",
       "    .dataframe tbody tr th:only-of-type {\n",
       "        vertical-align: middle;\n",
       "    }\n",
       "\n",
       "    .dataframe tbody tr th {\n",
       "        vertical-align: top;\n",
       "    }\n",
       "\n",
       "    .dataframe thead th {\n",
       "        text-align: right;\n",
       "    }\n",
       "</style>\n",
       "<table border=\"1\" class=\"dataframe\">\n",
       "  <thead>\n",
       "    <tr style=\"text-align: right;\">\n",
       "      <th></th>\n",
       "      <th>0</th>\n",
       "      <th>1</th>\n",
       "      <th>2</th>\n",
       "      <th>3</th>\n",
       "      <th>4</th>\n",
       "      <th>5</th>\n",
       "      <th>6</th>\n",
       "      <th>7</th>\n",
       "      <th>8</th>\n",
       "    </tr>\n",
       "  </thead>\n",
       "  <tbody>\n",
       "    <tr>\n",
       "      <th>0</th>\n",
       "      <td>1.934117</td>\n",
       "      <td>2.014562</td>\n",
       "      <td>1.807248</td>\n",
       "      <td>2.121978</td>\n",
       "      <td>1.938658</td>\n",
       "      <td>2.470803</td>\n",
       "      <td>1.916986</td>\n",
       "      <td>2.116171</td>\n",
       "      <td>2.060690</td>\n",
       "    </tr>\n",
       "    <tr>\n",
       "      <th>1</th>\n",
       "      <td>1.979146</td>\n",
       "      <td>2.059608</td>\n",
       "      <td>1.929327</td>\n",
       "      <td>2.231400</td>\n",
       "      <td>2.049460</td>\n",
       "      <td>2.549413</td>\n",
       "      <td>2.047260</td>\n",
       "      <td>2.181729</td>\n",
       "      <td>2.186501</td>\n",
       "    </tr>\n",
       "    <tr>\n",
       "      <th>2</th>\n",
       "      <td>2.004412</td>\n",
       "      <td>2.098467</td>\n",
       "      <td>1.999830</td>\n",
       "      <td>2.321425</td>\n",
       "      <td>2.124215</td>\n",
       "      <td>2.674495</td>\n",
       "      <td>2.164482</td>\n",
       "      <td>2.224390</td>\n",
       "      <td>2.287500</td>\n",
       "    </tr>\n",
       "    <tr>\n",
       "      <th>3</th>\n",
       "      <td>1.998940</td>\n",
       "      <td>2.112766</td>\n",
       "      <td>1.960844</td>\n",
       "      <td>2.314954</td>\n",
       "      <td>2.130507</td>\n",
       "      <td>2.637118</td>\n",
       "      <td>2.190091</td>\n",
       "      <td>2.182741</td>\n",
       "      <td>2.282602</td>\n",
       "    </tr>\n",
       "    <tr>\n",
       "      <th>4</th>\n",
       "      <td>1.948597</td>\n",
       "      <td>2.092214</td>\n",
       "      <td>1.945281</td>\n",
       "      <td>2.284349</td>\n",
       "      <td>2.116470</td>\n",
       "      <td>2.543520</td>\n",
       "      <td>2.214998</td>\n",
       "      <td>2.141953</td>\n",
       "      <td>2.293704</td>\n",
       "    </tr>\n",
       "    <tr>\n",
       "      <th>...</th>\n",
       "      <td>...</td>\n",
       "      <td>...</td>\n",
       "      <td>...</td>\n",
       "      <td>...</td>\n",
       "      <td>...</td>\n",
       "      <td>...</td>\n",
       "      <td>...</td>\n",
       "      <td>...</td>\n",
       "      <td>...</td>\n",
       "    </tr>\n",
       "    <tr>\n",
       "      <th>746491</th>\n",
       "      <td>-0.334738</td>\n",
       "      <td>-0.296494</td>\n",
       "      <td>-0.533858</td>\n",
       "      <td>0.001945</td>\n",
       "      <td>-0.443120</td>\n",
       "      <td>-0.186605</td>\n",
       "      <td>0.221242</td>\n",
       "      <td>-0.049178</td>\n",
       "      <td>-0.308425</td>\n",
       "    </tr>\n",
       "    <tr>\n",
       "      <th>746492</th>\n",
       "      <td>-0.349658</td>\n",
       "      <td>-0.275012</td>\n",
       "      <td>-0.561842</td>\n",
       "      <td>0.038084</td>\n",
       "      <td>-0.463164</td>\n",
       "      <td>-0.183285</td>\n",
       "      <td>0.179487</td>\n",
       "      <td>-0.069148</td>\n",
       "      <td>-0.390224</td>\n",
       "    </tr>\n",
       "    <tr>\n",
       "      <th>746493</th>\n",
       "      <td>-0.359547</td>\n",
       "      <td>-0.279103</td>\n",
       "      <td>-0.587151</td>\n",
       "      <td>0.041180</td>\n",
       "      <td>-0.461631</td>\n",
       "      <td>-0.170186</td>\n",
       "      <td>0.187710</td>\n",
       "      <td>-0.064349</td>\n",
       "      <td>-0.480788</td>\n",
       "    </tr>\n",
       "    <tr>\n",
       "      <th>746494</th>\n",
       "      <td>-0.362016</td>\n",
       "      <td>-0.311940</td>\n",
       "      <td>-0.579339</td>\n",
       "      <td>-0.014873</td>\n",
       "      <td>-0.434457</td>\n",
       "      <td>-0.151762</td>\n",
       "      <td>0.173370</td>\n",
       "      <td>-0.053951</td>\n",
       "      <td>-0.569151</td>\n",
       "    </tr>\n",
       "    <tr>\n",
       "      <th>746495</th>\n",
       "      <td>-0.371027</td>\n",
       "      <td>-0.295195</td>\n",
       "      <td>-0.594754</td>\n",
       "      <td>0.001674</td>\n",
       "      <td>-0.442923</td>\n",
       "      <td>-0.102193</td>\n",
       "      <td>0.106944</td>\n",
       "      <td>-0.068715</td>\n",
       "      <td>-0.597691</td>\n",
       "    </tr>\n",
       "  </tbody>\n",
       "</table>\n",
       "<p>746496 rows × 9 columns</p>\n",
       "</div>"
      ],
      "text/plain": [
       "               0         1         2         3         4         5         6  \\\n",
       "0       1.934117  2.014562  1.807248  2.121978  1.938658  2.470803  1.916986   \n",
       "1       1.979146  2.059608  1.929327  2.231400  2.049460  2.549413  2.047260   \n",
       "2       2.004412  2.098467  1.999830  2.321425  2.124215  2.674495  2.164482   \n",
       "3       1.998940  2.112766  1.960844  2.314954  2.130507  2.637118  2.190091   \n",
       "4       1.948597  2.092214  1.945281  2.284349  2.116470  2.543520  2.214998   \n",
       "...          ...       ...       ...       ...       ...       ...       ...   \n",
       "746491 -0.334738 -0.296494 -0.533858  0.001945 -0.443120 -0.186605  0.221242   \n",
       "746492 -0.349658 -0.275012 -0.561842  0.038084 -0.463164 -0.183285  0.179487   \n",
       "746493 -0.359547 -0.279103 -0.587151  0.041180 -0.461631 -0.170186  0.187710   \n",
       "746494 -0.362016 -0.311940 -0.579339 -0.014873 -0.434457 -0.151762  0.173370   \n",
       "746495 -0.371027 -0.295195 -0.594754  0.001674 -0.442923 -0.102193  0.106944   \n",
       "\n",
       "               7         8  \n",
       "0       2.116171  2.060690  \n",
       "1       2.181729  2.186501  \n",
       "2       2.224390  2.287500  \n",
       "3       2.182741  2.282602  \n",
       "4       2.141953  2.293704  \n",
       "...          ...       ...  \n",
       "746491 -0.049178 -0.308425  \n",
       "746492 -0.069148 -0.390224  \n",
       "746493 -0.064349 -0.480788  \n",
       "746494 -0.053951 -0.569151  \n",
       "746495 -0.068715 -0.597691  \n",
       "\n",
       "[746496 rows x 9 columns]"
      ]
     },
     "execution_count": 280,
     "metadata": {},
     "output_type": "execute_result"
    }
   ],
   "source": [
    "pd.DataFrame(scaled_data)"
   ]
  },
  {
   "cell_type": "code",
   "execution_count": 281,
   "id": "555111db",
   "metadata": {},
   "outputs": [],
   "source": [
    "scaled_data = pd.DataFrame(scaled_data)"
   ]
  },
  {
   "cell_type": "code",
   "execution_count": 282,
   "id": "bb66884e",
   "metadata": {},
   "outputs": [
    {
     "data": {
      "text/plain": [
       "(746496, 9)"
      ]
     },
     "execution_count": 282,
     "metadata": {},
     "output_type": "execute_result"
    }
   ],
   "source": [
    "scaled_data.shape"
   ]
  },
  {
   "cell_type": "code",
   "execution_count": 283,
   "id": "b7d1de7a",
   "metadata": {},
   "outputs": [],
   "source": [
    "from sklearn.decomposition import PCA"
   ]
  },
  {
   "cell_type": "code",
   "execution_count": 284,
   "id": "27650d34",
   "metadata": {},
   "outputs": [],
   "source": [
    "pca = PCA(n_components=3)"
   ]
  },
  {
   "cell_type": "code",
   "execution_count": 285,
   "id": "9805d19e",
   "metadata": {},
   "outputs": [],
   "source": [
    "pca_data = pca.fit_transform(scaled_data)"
   ]
  },
  {
   "cell_type": "code",
   "execution_count": 286,
   "id": "7271c3bf",
   "metadata": {},
   "outputs": [
    {
     "data": {
      "text/plain": [
       "(746496, 3)"
      ]
     },
     "execution_count": 286,
     "metadata": {},
     "output_type": "execute_result"
    }
   ],
   "source": [
    "pca_data.shape"
   ]
  },
  {
   "cell_type": "code",
   "execution_count": 287,
   "id": "82841f29",
   "metadata": {},
   "outputs": [
    {
     "data": {
      "text/html": [
       "<div>\n",
       "<style scoped>\n",
       "    .dataframe tbody tr th:only-of-type {\n",
       "        vertical-align: middle;\n",
       "    }\n",
       "\n",
       "    .dataframe tbody tr th {\n",
       "        vertical-align: top;\n",
       "    }\n",
       "\n",
       "    .dataframe thead th {\n",
       "        text-align: right;\n",
       "    }\n",
       "</style>\n",
       "<table border=\"1\" class=\"dataframe\">\n",
       "  <thead>\n",
       "    <tr style=\"text-align: right;\">\n",
       "      <th></th>\n",
       "      <th>0</th>\n",
       "      <th>1</th>\n",
       "      <th>2</th>\n",
       "    </tr>\n",
       "  </thead>\n",
       "  <tbody>\n",
       "    <tr>\n",
       "      <th>0</th>\n",
       "      <td>6.126765</td>\n",
       "      <td>-0.225671</td>\n",
       "      <td>-0.157671</td>\n",
       "    </tr>\n",
       "    <tr>\n",
       "      <th>1</th>\n",
       "      <td>6.405095</td>\n",
       "      <td>-0.251740</td>\n",
       "      <td>-0.102145</td>\n",
       "    </tr>\n",
       "    <tr>\n",
       "      <th>2</th>\n",
       "      <td>6.634798</td>\n",
       "      <td>-0.295300</td>\n",
       "      <td>-0.072281</td>\n",
       "    </tr>\n",
       "    <tr>\n",
       "      <th>3</th>\n",
       "      <td>6.605319</td>\n",
       "      <td>-0.254356</td>\n",
       "      <td>-0.038723</td>\n",
       "    </tr>\n",
       "    <tr>\n",
       "      <th>4</th>\n",
       "      <td>6.528899</td>\n",
       "      <td>-0.246596</td>\n",
       "      <td>0.032436</td>\n",
       "    </tr>\n",
       "    <tr>\n",
       "      <th>...</th>\n",
       "      <td>...</td>\n",
       "      <td>...</td>\n",
       "      <td>...</td>\n",
       "    </tr>\n",
       "    <tr>\n",
       "      <th>746491</th>\n",
       "      <td>-0.639274</td>\n",
       "      <td>-0.214869</td>\n",
       "      <td>0.019979</td>\n",
       "    </tr>\n",
       "    <tr>\n",
       "      <th>746492</th>\n",
       "      <td>-0.686654</td>\n",
       "      <td>-0.185227</td>\n",
       "      <td>-0.065179</td>\n",
       "    </tr>\n",
       "    <tr>\n",
       "      <th>746493</th>\n",
       "      <td>-0.718599</td>\n",
       "      <td>-0.172118</td>\n",
       "      <td>-0.114084</td>\n",
       "    </tr>\n",
       "    <tr>\n",
       "      <th>746494</th>\n",
       "      <td>-0.761483</td>\n",
       "      <td>-0.166830</td>\n",
       "      <td>-0.140982</td>\n",
       "    </tr>\n",
       "    <tr>\n",
       "      <th>746495</th>\n",
       "      <td>-0.780881</td>\n",
       "      <td>-0.164752</td>\n",
       "      <td>-0.211924</td>\n",
       "    </tr>\n",
       "  </tbody>\n",
       "</table>\n",
       "<p>746496 rows × 3 columns</p>\n",
       "</div>"
      ],
      "text/plain": [
       "               0         1         2\n",
       "0       6.126765 -0.225671 -0.157671\n",
       "1       6.405095 -0.251740 -0.102145\n",
       "2       6.634798 -0.295300 -0.072281\n",
       "3       6.605319 -0.254356 -0.038723\n",
       "4       6.528899 -0.246596  0.032436\n",
       "...          ...       ...       ...\n",
       "746491 -0.639274 -0.214869  0.019979\n",
       "746492 -0.686654 -0.185227 -0.065179\n",
       "746493 -0.718599 -0.172118 -0.114084\n",
       "746494 -0.761483 -0.166830 -0.140982\n",
       "746495 -0.780881 -0.164752 -0.211924\n",
       "\n",
       "[746496 rows x 3 columns]"
      ]
     },
     "execution_count": 287,
     "metadata": {},
     "output_type": "execute_result"
    }
   ],
   "source": [
    "pd.DataFrame(pca_data)"
   ]
  },
  {
   "cell_type": "code",
   "execution_count": 288,
   "id": "a4ec2236",
   "metadata": {},
   "outputs": [],
   "source": [
    "new_data = pd.concat([data['subject'], data['condition'], pd.DataFrame(pca_data)], axis=1)"
   ]
  },
  {
   "cell_type": "code",
   "execution_count": 289,
   "id": "fe6008de",
   "metadata": {},
   "outputs": [
    {
     "data": {
      "text/html": [
       "<div>\n",
       "<style scoped>\n",
       "    .dataframe tbody tr th:only-of-type {\n",
       "        vertical-align: middle;\n",
       "    }\n",
       "\n",
       "    .dataframe tbody tr th {\n",
       "        vertical-align: top;\n",
       "    }\n",
       "\n",
       "    .dataframe thead th {\n",
       "        text-align: right;\n",
       "    }\n",
       "</style>\n",
       "<table border=\"1\" class=\"dataframe\">\n",
       "  <thead>\n",
       "    <tr style=\"text-align: right;\">\n",
       "      <th></th>\n",
       "      <th>subject</th>\n",
       "      <th>condition</th>\n",
       "      <th>0</th>\n",
       "      <th>1</th>\n",
       "      <th>2</th>\n",
       "    </tr>\n",
       "  </thead>\n",
       "  <tbody>\n",
       "    <tr>\n",
       "      <th>0</th>\n",
       "      <td>1</td>\n",
       "      <td>1</td>\n",
       "      <td>6.126765</td>\n",
       "      <td>-0.225671</td>\n",
       "      <td>-0.157671</td>\n",
       "    </tr>\n",
       "    <tr>\n",
       "      <th>1</th>\n",
       "      <td>1</td>\n",
       "      <td>1</td>\n",
       "      <td>6.405095</td>\n",
       "      <td>-0.251740</td>\n",
       "      <td>-0.102145</td>\n",
       "    </tr>\n",
       "    <tr>\n",
       "      <th>2</th>\n",
       "      <td>1</td>\n",
       "      <td>1</td>\n",
       "      <td>6.634798</td>\n",
       "      <td>-0.295300</td>\n",
       "      <td>-0.072281</td>\n",
       "    </tr>\n",
       "    <tr>\n",
       "      <th>3</th>\n",
       "      <td>1</td>\n",
       "      <td>1</td>\n",
       "      <td>6.605319</td>\n",
       "      <td>-0.254356</td>\n",
       "      <td>-0.038723</td>\n",
       "    </tr>\n",
       "    <tr>\n",
       "      <th>4</th>\n",
       "      <td>1</td>\n",
       "      <td>1</td>\n",
       "      <td>6.528899</td>\n",
       "      <td>-0.246596</td>\n",
       "      <td>0.032436</td>\n",
       "    </tr>\n",
       "  </tbody>\n",
       "</table>\n",
       "</div>"
      ],
      "text/plain": [
       "   subject  condition         0         1         2\n",
       "0        1          1  6.126765 -0.225671 -0.157671\n",
       "1        1          1  6.405095 -0.251740 -0.102145\n",
       "2        1          1  6.634798 -0.295300 -0.072281\n",
       "3        1          1  6.605319 -0.254356 -0.038723\n",
       "4        1          1  6.528899 -0.246596  0.032436"
      ]
     },
     "execution_count": 289,
     "metadata": {},
     "output_type": "execute_result"
    }
   ],
   "source": [
    "new_data.head()"
   ]
  },
  {
   "cell_type": "code",
   "execution_count": 290,
   "id": "35721e41",
   "metadata": {},
   "outputs": [
    {
     "data": {
      "text/html": [
       "<div>\n",
       "<style scoped>\n",
       "    .dataframe tbody tr th:only-of-type {\n",
       "        vertical-align: middle;\n",
       "    }\n",
       "\n",
       "    .dataframe tbody tr th {\n",
       "        vertical-align: top;\n",
       "    }\n",
       "\n",
       "    .dataframe thead th {\n",
       "        text-align: right;\n",
       "    }\n",
       "</style>\n",
       "<table border=\"1\" class=\"dataframe\">\n",
       "  <thead>\n",
       "    <tr style=\"text-align: right;\">\n",
       "      <th></th>\n",
       "      <th>subject</th>\n",
       "      <th>condition</th>\n",
       "      <th>0</th>\n",
       "      <th>1</th>\n",
       "      <th>2</th>\n",
       "    </tr>\n",
       "  </thead>\n",
       "  <tbody>\n",
       "    <tr>\n",
       "      <th>count</th>\n",
       "      <td>746496.00000</td>\n",
       "      <td>746496.000000</td>\n",
       "      <td>7.464960e+05</td>\n",
       "      <td>7.464960e+05</td>\n",
       "      <td>7.464960e+05</td>\n",
       "    </tr>\n",
       "    <tr>\n",
       "      <th>mean</th>\n",
       "      <td>41.00000</td>\n",
       "      <td>2.000000</td>\n",
       "      <td>1.705692e-17</td>\n",
       "      <td>3.080145e-17</td>\n",
       "      <td>1.639064e-17</td>\n",
       "    </tr>\n",
       "    <tr>\n",
       "      <th>std</th>\n",
       "      <td>23.38092</td>\n",
       "      <td>0.816497</td>\n",
       "      <td>2.714200e+00</td>\n",
       "      <td>7.273634e-01</td>\n",
       "      <td>6.791248e-01</td>\n",
       "    </tr>\n",
       "    <tr>\n",
       "      <th>min</th>\n",
       "      <td>1.00000</td>\n",
       "      <td>1.000000</td>\n",
       "      <td>-1.534012e+01</td>\n",
       "      <td>-5.499034e+00</td>\n",
       "      <td>-5.421267e+00</td>\n",
       "    </tr>\n",
       "    <tr>\n",
       "      <th>25%</th>\n",
       "      <td>21.00000</td>\n",
       "      <td>1.000000</td>\n",
       "      <td>-1.559588e+00</td>\n",
       "      <td>-3.968424e-01</td>\n",
       "      <td>-3.430261e-01</td>\n",
       "    </tr>\n",
       "    <tr>\n",
       "      <th>50%</th>\n",
       "      <td>41.00000</td>\n",
       "      <td>2.000000</td>\n",
       "      <td>-2.823380e-01</td>\n",
       "      <td>-9.488918e-04</td>\n",
       "      <td>1.189421e-02</td>\n",
       "    </tr>\n",
       "    <tr>\n",
       "      <th>75%</th>\n",
       "      <td>61.00000</td>\n",
       "      <td>3.000000</td>\n",
       "      <td>1.377440e+00</td>\n",
       "      <td>3.744611e-01</td>\n",
       "      <td>3.560307e-01</td>\n",
       "    </tr>\n",
       "    <tr>\n",
       "      <th>max</th>\n",
       "      <td>81.00000</td>\n",
       "      <td>3.000000</td>\n",
       "      <td>2.176069e+01</td>\n",
       "      <td>9.407184e+00</td>\n",
       "      <td>5.456910e+00</td>\n",
       "    </tr>\n",
       "  </tbody>\n",
       "</table>\n",
       "</div>"
      ],
      "text/plain": [
       "            subject      condition             0             1             2\n",
       "count  746496.00000  746496.000000  7.464960e+05  7.464960e+05  7.464960e+05\n",
       "mean       41.00000       2.000000  1.705692e-17  3.080145e-17  1.639064e-17\n",
       "std        23.38092       0.816497  2.714200e+00  7.273634e-01  6.791248e-01\n",
       "min         1.00000       1.000000 -1.534012e+01 -5.499034e+00 -5.421267e+00\n",
       "25%        21.00000       1.000000 -1.559588e+00 -3.968424e-01 -3.430261e-01\n",
       "50%        41.00000       2.000000 -2.823380e-01 -9.488918e-04  1.189421e-02\n",
       "75%        61.00000       3.000000  1.377440e+00  3.744611e-01  3.560307e-01\n",
       "max        81.00000       3.000000  2.176069e+01  9.407184e+00  5.456910e+00"
      ]
     },
     "execution_count": 290,
     "metadata": {},
     "output_type": "execute_result"
    }
   ],
   "source": [
    "new_data.describe()"
   ]
  },
  {
   "cell_type": "code",
   "execution_count": 291,
   "id": "9ee7076c",
   "metadata": {},
   "outputs": [],
   "source": [
    "import pandas as pd\n",
    "\n",
    "# Set the number of rows to average\n",
    "n = 3072\n",
    "\n",
    "# Read the CSV file into a pandas DataFrame\n",
    "df = pd.read_csv('/home/aravint/vscode/ERPdata.csv')\n",
    "# Group the rows into n-row chunks and compute the mean for each chunk\n",
    "averaged_df = df.groupby(df.index // n).mean()\n",
    "\n",
    "# Write the averaged DataFrame to a new CSV file\n",
    "averaged_df.to_csv('output.csv', index=False)\n"
   ]
  },
  {
   "cell_type": "code",
   "execution_count": 292,
   "id": "34cec912",
   "metadata": {},
   "outputs": [],
   "source": [
    "new=pd.read_csv('/home/aravint/vscode/output.csv')\n",
    "new=new.drop(['time_ms','subject'],axis=1)"
   ]
  },
  {
   "cell_type": "code",
   "execution_count": 293,
   "id": "7de802f4",
   "metadata": {},
   "outputs": [
    {
     "data": {
      "text/html": [
       "<div>\n",
       "<style scoped>\n",
       "    .dataframe tbody tr th:only-of-type {\n",
       "        vertical-align: middle;\n",
       "    }\n",
       "\n",
       "    .dataframe tbody tr th {\n",
       "        vertical-align: top;\n",
       "    }\n",
       "\n",
       "    .dataframe thead th {\n",
       "        text-align: right;\n",
       "    }\n",
       "</style>\n",
       "<table border=\"1\" class=\"dataframe\">\n",
       "  <thead>\n",
       "    <tr style=\"text-align: right;\">\n",
       "      <th></th>\n",
       "      <th>condition</th>\n",
       "      <th>Fz</th>\n",
       "      <th>FCz</th>\n",
       "      <th>Cz</th>\n",
       "      <th>FC3</th>\n",
       "      <th>FC4</th>\n",
       "      <th>C3</th>\n",
       "      <th>C4</th>\n",
       "      <th>CP3</th>\n",
       "      <th>CP4</th>\n",
       "    </tr>\n",
       "  </thead>\n",
       "  <tbody>\n",
       "    <tr>\n",
       "      <th>0</th>\n",
       "      <td>1.0</td>\n",
       "      <td>3.257651</td>\n",
       "      <td>3.745303</td>\n",
       "      <td>3.847506</td>\n",
       "      <td>3.693165</td>\n",
       "      <td>2.976465</td>\n",
       "      <td>4.262386</td>\n",
       "      <td>2.866729</td>\n",
       "      <td>3.814953</td>\n",
       "      <td>3.290692</td>\n",
       "    </tr>\n",
       "    <tr>\n",
       "      <th>1</th>\n",
       "      <td>2.0</td>\n",
       "      <td>-1.043820</td>\n",
       "      <td>-1.065050</td>\n",
       "      <td>-1.123575</td>\n",
       "      <td>-0.903012</td>\n",
       "      <td>-1.138177</td>\n",
       "      <td>-0.346589</td>\n",
       "      <td>-0.637356</td>\n",
       "      <td>-1.061895</td>\n",
       "      <td>-0.621924</td>\n",
       "    </tr>\n",
       "    <tr>\n",
       "      <th>2</th>\n",
       "      <td>3.0</td>\n",
       "      <td>1.743884</td>\n",
       "      <td>2.269544</td>\n",
       "      <td>2.569839</td>\n",
       "      <td>1.812139</td>\n",
       "      <td>2.081231</td>\n",
       "      <td>3.629199</td>\n",
       "      <td>2.097347</td>\n",
       "      <td>3.279595</td>\n",
       "      <td>2.788494</td>\n",
       "    </tr>\n",
       "    <tr>\n",
       "      <th>3</th>\n",
       "      <td>1.0</td>\n",
       "      <td>1.534364</td>\n",
       "      <td>1.866633</td>\n",
       "      <td>1.622614</td>\n",
       "      <td>1.666922</td>\n",
       "      <td>1.341845</td>\n",
       "      <td>2.183040</td>\n",
       "      <td>1.471907</td>\n",
       "      <td>1.580068</td>\n",
       "      <td>1.247949</td>\n",
       "    </tr>\n",
       "    <tr>\n",
       "      <th>4</th>\n",
       "      <td>2.0</td>\n",
       "      <td>-0.428805</td>\n",
       "      <td>-0.554296</td>\n",
       "      <td>-0.311333</td>\n",
       "      <td>-0.502437</td>\n",
       "      <td>0.334290</td>\n",
       "      <td>-0.128937</td>\n",
       "      <td>-0.203195</td>\n",
       "      <td>-0.346978</td>\n",
       "      <td>-0.155028</td>\n",
       "    </tr>\n",
       "  </tbody>\n",
       "</table>\n",
       "</div>"
      ],
      "text/plain": [
       "   condition        Fz       FCz        Cz       FC3       FC4        C3  \\\n",
       "0        1.0  3.257651  3.745303  3.847506  3.693165  2.976465  4.262386   \n",
       "1        2.0 -1.043820 -1.065050 -1.123575 -0.903012 -1.138177 -0.346589   \n",
       "2        3.0  1.743884  2.269544  2.569839  1.812139  2.081231  3.629199   \n",
       "3        1.0  1.534364  1.866633  1.622614  1.666922  1.341845  2.183040   \n",
       "4        2.0 -0.428805 -0.554296 -0.311333 -0.502437  0.334290 -0.128937   \n",
       "\n",
       "         C4       CP3       CP4  \n",
       "0  2.866729  3.814953  3.290692  \n",
       "1 -0.637356 -1.061895 -0.621924  \n",
       "2  2.097347  3.279595  2.788494  \n",
       "3  1.471907  1.580068  1.247949  \n",
       "4 -0.203195 -0.346978 -0.155028  "
      ]
     },
     "execution_count": 293,
     "metadata": {},
     "output_type": "execute_result"
    }
   ],
   "source": [
    "new.head()"
   ]
  },
  {
   "cell_type": "code",
   "execution_count": 294,
   "id": "102c9e0c",
   "metadata": {},
   "outputs": [
    {
     "name": "stdout",
     "output_type": "stream",
     "text": [
      "243\n"
     ]
    }
   ],
   "source": [
    "from sklearn.preprocessing import StandardScaler\n",
    "print(len(new))"
   ]
  },
  {
   "cell_type": "code",
   "execution_count": 295,
   "id": "0424b343",
   "metadata": {},
   "outputs": [],
   "source": [
    "import pandas as pd\n",
    "\n",
    "new['group'] = 1\n",
    "\n",
    "# Set the first n rows of 'new_column' to 0\n",
    "n = 72\n",
    "new.loc[:n-1, 'group'] = 0\n",
    "new.loc[174:197,'group']=0\n",
    "\n"
   ]
  },
  {
   "cell_type": "code",
   "execution_count": 296,
   "id": "993ffc75",
   "metadata": {},
   "outputs": [
    {
     "data": {
      "text/html": [
       "<div>\n",
       "<style scoped>\n",
       "    .dataframe tbody tr th:only-of-type {\n",
       "        vertical-align: middle;\n",
       "    }\n",
       "\n",
       "    .dataframe tbody tr th {\n",
       "        vertical-align: top;\n",
       "    }\n",
       "\n",
       "    .dataframe thead th {\n",
       "        text-align: right;\n",
       "    }\n",
       "</style>\n",
       "<table border=\"1\" class=\"dataframe\">\n",
       "  <thead>\n",
       "    <tr style=\"text-align: right;\">\n",
       "      <th></th>\n",
       "      <th>condition</th>\n",
       "      <th>Fz</th>\n",
       "      <th>FCz</th>\n",
       "      <th>Cz</th>\n",
       "      <th>FC3</th>\n",
       "      <th>FC4</th>\n",
       "      <th>C3</th>\n",
       "      <th>C4</th>\n",
       "      <th>CP3</th>\n",
       "      <th>CP4</th>\n",
       "      <th>group</th>\n",
       "    </tr>\n",
       "  </thead>\n",
       "  <tbody>\n",
       "    <tr>\n",
       "      <th>0</th>\n",
       "      <td>1.0</td>\n",
       "      <td>3.257651</td>\n",
       "      <td>3.745303</td>\n",
       "      <td>3.847506</td>\n",
       "      <td>3.693165</td>\n",
       "      <td>2.976465</td>\n",
       "      <td>4.262386</td>\n",
       "      <td>2.866729</td>\n",
       "      <td>3.814953</td>\n",
       "      <td>3.290692</td>\n",
       "      <td>0</td>\n",
       "    </tr>\n",
       "    <tr>\n",
       "      <th>1</th>\n",
       "      <td>2.0</td>\n",
       "      <td>-1.043820</td>\n",
       "      <td>-1.065050</td>\n",
       "      <td>-1.123575</td>\n",
       "      <td>-0.903012</td>\n",
       "      <td>-1.138177</td>\n",
       "      <td>-0.346589</td>\n",
       "      <td>-0.637356</td>\n",
       "      <td>-1.061895</td>\n",
       "      <td>-0.621924</td>\n",
       "      <td>0</td>\n",
       "    </tr>\n",
       "    <tr>\n",
       "      <th>2</th>\n",
       "      <td>3.0</td>\n",
       "      <td>1.743884</td>\n",
       "      <td>2.269544</td>\n",
       "      <td>2.569839</td>\n",
       "      <td>1.812139</td>\n",
       "      <td>2.081231</td>\n",
       "      <td>3.629199</td>\n",
       "      <td>2.097347</td>\n",
       "      <td>3.279595</td>\n",
       "      <td>2.788494</td>\n",
       "      <td>0</td>\n",
       "    </tr>\n",
       "    <tr>\n",
       "      <th>3</th>\n",
       "      <td>1.0</td>\n",
       "      <td>1.534364</td>\n",
       "      <td>1.866633</td>\n",
       "      <td>1.622614</td>\n",
       "      <td>1.666922</td>\n",
       "      <td>1.341845</td>\n",
       "      <td>2.183040</td>\n",
       "      <td>1.471907</td>\n",
       "      <td>1.580068</td>\n",
       "      <td>1.247949</td>\n",
       "      <td>0</td>\n",
       "    </tr>\n",
       "    <tr>\n",
       "      <th>4</th>\n",
       "      <td>2.0</td>\n",
       "      <td>-0.428805</td>\n",
       "      <td>-0.554296</td>\n",
       "      <td>-0.311333</td>\n",
       "      <td>-0.502437</td>\n",
       "      <td>0.334290</td>\n",
       "      <td>-0.128937</td>\n",
       "      <td>-0.203195</td>\n",
       "      <td>-0.346978</td>\n",
       "      <td>-0.155028</td>\n",
       "      <td>0</td>\n",
       "    </tr>\n",
       "  </tbody>\n",
       "</table>\n",
       "</div>"
      ],
      "text/plain": [
       "   condition        Fz       FCz        Cz       FC3       FC4        C3  \\\n",
       "0        1.0  3.257651  3.745303  3.847506  3.693165  2.976465  4.262386   \n",
       "1        2.0 -1.043820 -1.065050 -1.123575 -0.903012 -1.138177 -0.346589   \n",
       "2        3.0  1.743884  2.269544  2.569839  1.812139  2.081231  3.629199   \n",
       "3        1.0  1.534364  1.866633  1.622614  1.666922  1.341845  2.183040   \n",
       "4        2.0 -0.428805 -0.554296 -0.311333 -0.502437  0.334290 -0.128937   \n",
       "\n",
       "         C4       CP3       CP4  group  \n",
       "0  2.866729  3.814953  3.290692      0  \n",
       "1 -0.637356 -1.061895 -0.621924      0  \n",
       "2  2.097347  3.279595  2.788494      0  \n",
       "3  1.471907  1.580068  1.247949      0  \n",
       "4 -0.203195 -0.346978 -0.155028      0  "
      ]
     },
     "execution_count": 296,
     "metadata": {},
     "output_type": "execute_result"
    }
   ],
   "source": [
    "new.head()"
   ]
  },
  {
   "cell_type": "code",
   "execution_count": 297,
   "id": "7e4b6616",
   "metadata": {},
   "outputs": [
    {
     "name": "stdout",
     "output_type": "stream",
     "text": [
      "     condition        Fz       FCz        Cz       FC3       FC4        C3  \\\n",
      "0          1.0  3.257651  3.745303  3.847506  3.693165  2.976465  4.262386   \n",
      "1          2.0 -1.043820 -1.065050 -1.123575 -0.903012 -1.138177 -0.346589   \n",
      "2          3.0  1.743884  2.269544  2.569839  1.812139  2.081231  3.629199   \n",
      "3          1.0  1.534364  1.866633  1.622614  1.666922  1.341845  2.183040   \n",
      "4          2.0 -0.428805 -0.554296 -0.311333 -0.502437  0.334290 -0.128937   \n",
      "..         ...       ...       ...       ...       ...       ...       ...   \n",
      "238        2.0 -0.410542 -0.380000 -0.165908 -0.085708 -0.034370  0.129863   \n",
      "239        3.0 -1.295494 -1.585898 -1.494361 -1.155472 -1.057855 -1.194182   \n",
      "240        1.0 -0.431136 -1.144601 -0.977427 -0.713045 -1.432882 -0.564769   \n",
      "241        2.0  1.144735  1.164253  1.062737  0.886502  1.516434  0.774275   \n",
      "242        3.0 -0.971125 -0.203433  0.059747  0.122514 -0.110486 -0.004303   \n",
      "\n",
      "           C4       CP3       CP4  group  \n",
      "0    2.866729  3.814953  3.290692      0  \n",
      "1   -0.637356 -1.061895 -0.621924      0  \n",
      "2    2.097347  3.279595  2.788494      0  \n",
      "3    1.471907  1.580068  1.247949      0  \n",
      "4   -0.203195 -0.346978 -0.155028      0  \n",
      "..        ...       ...       ...    ...  \n",
      "238 -0.183711  0.206911 -0.033043      1  \n",
      "239 -1.164195 -1.286566 -1.372281      1  \n",
      "240 -0.407316 -0.578152 -0.548513      1  \n",
      "241  0.590861  1.298654  0.744563      1  \n",
      "242 -0.658093  0.167968 -0.931828      1  \n",
      "\n",
      "[243 rows x 11 columns]\n"
     ]
    }
   ],
   "source": [
    "print(new)"
   ]
  },
  {
   "cell_type": "code",
   "execution_count": 298,
   "id": "16275a93",
   "metadata": {},
   "outputs": [],
   "source": [
    "new.to_csv('final.csv', index=False)"
   ]
  },
  {
   "cell_type": "code",
   "execution_count": 299,
   "id": "e984570f",
   "metadata": {},
   "outputs": [],
   "source": [
    "import xgboost as xgb\n",
    "from sklearn.metrics import accuracy_score"
   ]
  },
  {
   "cell_type": "code",
   "execution_count": 300,
   "id": "fe0bfcef",
   "metadata": {},
   "outputs": [
    {
     "name": "stdout",
     "output_type": "stream",
     "text": [
      "[[ 1.85542677  1.86103923  1.69018756 ...  1.8601547   2.10159759\n",
      "   2.14910524]\n",
      " [-1.01206071 -1.14824898 -1.23490031 ... -0.99663546 -1.24641116\n",
      "  -0.96432009]\n",
      " [ 0.84630464  0.93782556  0.93838164 ...  1.23289762  1.73406827\n",
      "   1.74948622]\n",
      " ...\n",
      " [-0.60362747 -1.19801454 -1.14890361 ... -0.80908946 -0.91431587\n",
      "  -0.90590396]\n",
      " [ 0.44689477  0.24637086  0.05157109 ...  0.00469847  0.37413123\n",
      "   0.12304867]\n",
      " [-0.96360045 -0.60923337 -0.53860924 ... -1.01354132 -0.40209708\n",
      "  -1.21092311]]\n"
     ]
    }
   ],
   "source": [
    "from sklearn.model_selection import train_test_split\n",
    "\n",
    "scaled_data = scaler.fit_transform(new.drop(['condition','group'], axis=1))\n",
    "print(scaled_data)"
   ]
  },
  {
   "cell_type": "code",
   "execution_count": 301,
   "id": "051549f3",
   "metadata": {},
   "outputs": [],
   "source": [
    "x_train, x_test, y_train, y_test = train_test_split(scaled_data, new['group'], test_size=0.2, random_state=42)"
   ]
  },
  {
   "attachments": {},
   "cell_type": "markdown",
   "id": "04d6c63f",
   "metadata": {},
   "source": [
    "xgboost"
   ]
  },
  {
   "cell_type": "code",
   "execution_count": 302,
   "id": "44fd5a04",
   "metadata": {},
   "outputs": [
    {
     "data": {
      "text/html": [
       "<style>#sk-container-id-18 {color: black;background-color: white;}#sk-container-id-18 pre{padding: 0;}#sk-container-id-18 div.sk-toggleable {background-color: white;}#sk-container-id-18 label.sk-toggleable__label {cursor: pointer;display: block;width: 100%;margin-bottom: 0;padding: 0.3em;box-sizing: border-box;text-align: center;}#sk-container-id-18 label.sk-toggleable__label-arrow:before {content: \"▸\";float: left;margin-right: 0.25em;color: #696969;}#sk-container-id-18 label.sk-toggleable__label-arrow:hover:before {color: black;}#sk-container-id-18 div.sk-estimator:hover label.sk-toggleable__label-arrow:before {color: black;}#sk-container-id-18 div.sk-toggleable__content {max-height: 0;max-width: 0;overflow: hidden;text-align: left;background-color: #f0f8ff;}#sk-container-id-18 div.sk-toggleable__content pre {margin: 0.2em;color: black;border-radius: 0.25em;background-color: #f0f8ff;}#sk-container-id-18 input.sk-toggleable__control:checked~div.sk-toggleable__content {max-height: 200px;max-width: 100%;overflow: auto;}#sk-container-id-18 input.sk-toggleable__control:checked~label.sk-toggleable__label-arrow:before {content: \"▾\";}#sk-container-id-18 div.sk-estimator input.sk-toggleable__control:checked~label.sk-toggleable__label {background-color: #d4ebff;}#sk-container-id-18 div.sk-label input.sk-toggleable__control:checked~label.sk-toggleable__label {background-color: #d4ebff;}#sk-container-id-18 input.sk-hidden--visually {border: 0;clip: rect(1px 1px 1px 1px);clip: rect(1px, 1px, 1px, 1px);height: 1px;margin: -1px;overflow: hidden;padding: 0;position: absolute;width: 1px;}#sk-container-id-18 div.sk-estimator {font-family: monospace;background-color: #f0f8ff;border: 1px dotted black;border-radius: 0.25em;box-sizing: border-box;margin-bottom: 0.5em;}#sk-container-id-18 div.sk-estimator:hover {background-color: #d4ebff;}#sk-container-id-18 div.sk-parallel-item::after {content: \"\";width: 100%;border-bottom: 1px solid gray;flex-grow: 1;}#sk-container-id-18 div.sk-label:hover label.sk-toggleable__label {background-color: #d4ebff;}#sk-container-id-18 div.sk-serial::before {content: \"\";position: absolute;border-left: 1px solid gray;box-sizing: border-box;top: 0;bottom: 0;left: 50%;z-index: 0;}#sk-container-id-18 div.sk-serial {display: flex;flex-direction: column;align-items: center;background-color: white;padding-right: 0.2em;padding-left: 0.2em;position: relative;}#sk-container-id-18 div.sk-item {position: relative;z-index: 1;}#sk-container-id-18 div.sk-parallel {display: flex;align-items: stretch;justify-content: center;background-color: white;position: relative;}#sk-container-id-18 div.sk-item::before, #sk-container-id-18 div.sk-parallel-item::before {content: \"\";position: absolute;border-left: 1px solid gray;box-sizing: border-box;top: 0;bottom: 0;left: 50%;z-index: -1;}#sk-container-id-18 div.sk-parallel-item {display: flex;flex-direction: column;z-index: 1;position: relative;background-color: white;}#sk-container-id-18 div.sk-parallel-item:first-child::after {align-self: flex-end;width: 50%;}#sk-container-id-18 div.sk-parallel-item:last-child::after {align-self: flex-start;width: 50%;}#sk-container-id-18 div.sk-parallel-item:only-child::after {width: 0;}#sk-container-id-18 div.sk-dashed-wrapped {border: 1px dashed gray;margin: 0 0.4em 0.5em 0.4em;box-sizing: border-box;padding-bottom: 0.4em;background-color: white;}#sk-container-id-18 div.sk-label label {font-family: monospace;font-weight: bold;display: inline-block;line-height: 1.2em;}#sk-container-id-18 div.sk-label-container {text-align: center;}#sk-container-id-18 div.sk-container {/* jupyter's `normalize.less` sets `[hidden] { display: none; }` but bootstrap.min.css set `[hidden] { display: none !important; }` so we also need the `!important` here to be able to override the default hidden behavior on the sphinx rendered scikit-learn.org. See: https://github.com/scikit-learn/scikit-learn/issues/21755 */display: inline-block !important;position: relative;}#sk-container-id-18 div.sk-text-repr-fallback {display: none;}</style><div id=\"sk-container-id-18\" class=\"sk-top-container\"><div class=\"sk-text-repr-fallback\"><pre>XGBClassifier(base_score=None, booster=None, callbacks=None,\n",
       "              colsample_bylevel=None, colsample_bynode=None,\n",
       "              colsample_bytree=None, early_stopping_rounds=None,\n",
       "              enable_categorical=False, eval_metric=None, feature_types=None,\n",
       "              gamma=None, gpu_id=None, grow_policy=None, importance_type=None,\n",
       "              interaction_constraints=None, learning_rate=None, max_bin=None,\n",
       "              max_cat_threshold=None, max_cat_to_onehot=None,\n",
       "              max_delta_step=None, max_depth=None, max_leaves=None,\n",
       "              min_child_weight=None, missing=nan, monotone_constraints=None,\n",
       "              n_estimators=100, n_jobs=None, num_parallel_tree=None,\n",
       "              predictor=None, random_state=42, ...)</pre><b>In a Jupyter environment, please rerun this cell to show the HTML representation or trust the notebook. <br />On GitHub, the HTML representation is unable to render, please try loading this page with nbviewer.org.</b></div><div class=\"sk-container\" hidden><div class=\"sk-item\"><div class=\"sk-estimator sk-toggleable\"><input class=\"sk-toggleable__control sk-hidden--visually\" id=\"sk-estimator-id-18\" type=\"checkbox\" checked><label for=\"sk-estimator-id-18\" class=\"sk-toggleable__label sk-toggleable__label-arrow\">XGBClassifier</label><div class=\"sk-toggleable__content\"><pre>XGBClassifier(base_score=None, booster=None, callbacks=None,\n",
       "              colsample_bylevel=None, colsample_bynode=None,\n",
       "              colsample_bytree=None, early_stopping_rounds=None,\n",
       "              enable_categorical=False, eval_metric=None, feature_types=None,\n",
       "              gamma=None, gpu_id=None, grow_policy=None, importance_type=None,\n",
       "              interaction_constraints=None, learning_rate=None, max_bin=None,\n",
       "              max_cat_threshold=None, max_cat_to_onehot=None,\n",
       "              max_delta_step=None, max_depth=None, max_leaves=None,\n",
       "              min_child_weight=None, missing=nan, monotone_constraints=None,\n",
       "              n_estimators=100, n_jobs=None, num_parallel_tree=None,\n",
       "              predictor=None, random_state=42, ...)</pre></div></div></div></div></div>"
      ],
      "text/plain": [
       "XGBClassifier(base_score=None, booster=None, callbacks=None,\n",
       "              colsample_bylevel=None, colsample_bynode=None,\n",
       "              colsample_bytree=None, early_stopping_rounds=None,\n",
       "              enable_categorical=False, eval_metric=None, feature_types=None,\n",
       "              gamma=None, gpu_id=None, grow_policy=None, importance_type=None,\n",
       "              interaction_constraints=None, learning_rate=None, max_bin=None,\n",
       "              max_cat_threshold=None, max_cat_to_onehot=None,\n",
       "              max_delta_step=None, max_depth=None, max_leaves=None,\n",
       "              min_child_weight=None, missing=nan, monotone_constraints=None,\n",
       "              n_estimators=100, n_jobs=None, num_parallel_tree=None,\n",
       "              predictor=None, random_state=42, ...)"
      ]
     },
     "execution_count": 302,
     "metadata": {},
     "output_type": "execute_result"
    }
   ],
   "source": [
    "xgb_model = xgb.XGBClassifier(objective=\"binary:logistic\", random_state=42)\n",
    "xgb_model.fit(x_train, y_train)\n"
   ]
  },
  {
   "cell_type": "code",
   "execution_count": 303,
   "id": "e66a9fc6",
   "metadata": {},
   "outputs": [
    {
     "name": "stdout",
     "output_type": "stream",
     "text": [
      "1.0\n"
     ]
    }
   ],
   "source": [
    "x_train_predict=xgb_model.predict(x_train)\n",
    "accuracy=accuracy_score(y_train,x_train_predict)\n",
    "print(accuracy)"
   ]
  },
  {
   "cell_type": "code",
   "execution_count": 304,
   "id": "28f3d41c",
   "metadata": {},
   "outputs": [
    {
     "name": "stdout",
     "output_type": "stream",
     "text": [
      "0.5918367346938775\n"
     ]
    }
   ],
   "source": [
    "y_test_predict=xgb_model.predict(x_test)\n",
    "accuracy_test=accuracy_score(y_test,y_test_predict)\n",
    "print(accuracy_test)"
   ]
  },
  {
   "attachments": {},
   "cell_type": "markdown",
   "id": "64ccc15e",
   "metadata": {},
   "source": [
    "logistic regression"
   ]
  },
  {
   "cell_type": "code",
   "execution_count": 305,
   "id": "34774cb7",
   "metadata": {},
   "outputs": [
    {
     "data": {
      "text/html": [
       "<style>#sk-container-id-19 {color: black;background-color: white;}#sk-container-id-19 pre{padding: 0;}#sk-container-id-19 div.sk-toggleable {background-color: white;}#sk-container-id-19 label.sk-toggleable__label {cursor: pointer;display: block;width: 100%;margin-bottom: 0;padding: 0.3em;box-sizing: border-box;text-align: center;}#sk-container-id-19 label.sk-toggleable__label-arrow:before {content: \"▸\";float: left;margin-right: 0.25em;color: #696969;}#sk-container-id-19 label.sk-toggleable__label-arrow:hover:before {color: black;}#sk-container-id-19 div.sk-estimator:hover label.sk-toggleable__label-arrow:before {color: black;}#sk-container-id-19 div.sk-toggleable__content {max-height: 0;max-width: 0;overflow: hidden;text-align: left;background-color: #f0f8ff;}#sk-container-id-19 div.sk-toggleable__content pre {margin: 0.2em;color: black;border-radius: 0.25em;background-color: #f0f8ff;}#sk-container-id-19 input.sk-toggleable__control:checked~div.sk-toggleable__content {max-height: 200px;max-width: 100%;overflow: auto;}#sk-container-id-19 input.sk-toggleable__control:checked~label.sk-toggleable__label-arrow:before {content: \"▾\";}#sk-container-id-19 div.sk-estimator input.sk-toggleable__control:checked~label.sk-toggleable__label {background-color: #d4ebff;}#sk-container-id-19 div.sk-label input.sk-toggleable__control:checked~label.sk-toggleable__label {background-color: #d4ebff;}#sk-container-id-19 input.sk-hidden--visually {border: 0;clip: rect(1px 1px 1px 1px);clip: rect(1px, 1px, 1px, 1px);height: 1px;margin: -1px;overflow: hidden;padding: 0;position: absolute;width: 1px;}#sk-container-id-19 div.sk-estimator {font-family: monospace;background-color: #f0f8ff;border: 1px dotted black;border-radius: 0.25em;box-sizing: border-box;margin-bottom: 0.5em;}#sk-container-id-19 div.sk-estimator:hover {background-color: #d4ebff;}#sk-container-id-19 div.sk-parallel-item::after {content: \"\";width: 100%;border-bottom: 1px solid gray;flex-grow: 1;}#sk-container-id-19 div.sk-label:hover label.sk-toggleable__label {background-color: #d4ebff;}#sk-container-id-19 div.sk-serial::before {content: \"\";position: absolute;border-left: 1px solid gray;box-sizing: border-box;top: 0;bottom: 0;left: 50%;z-index: 0;}#sk-container-id-19 div.sk-serial {display: flex;flex-direction: column;align-items: center;background-color: white;padding-right: 0.2em;padding-left: 0.2em;position: relative;}#sk-container-id-19 div.sk-item {position: relative;z-index: 1;}#sk-container-id-19 div.sk-parallel {display: flex;align-items: stretch;justify-content: center;background-color: white;position: relative;}#sk-container-id-19 div.sk-item::before, #sk-container-id-19 div.sk-parallel-item::before {content: \"\";position: absolute;border-left: 1px solid gray;box-sizing: border-box;top: 0;bottom: 0;left: 50%;z-index: -1;}#sk-container-id-19 div.sk-parallel-item {display: flex;flex-direction: column;z-index: 1;position: relative;background-color: white;}#sk-container-id-19 div.sk-parallel-item:first-child::after {align-self: flex-end;width: 50%;}#sk-container-id-19 div.sk-parallel-item:last-child::after {align-self: flex-start;width: 50%;}#sk-container-id-19 div.sk-parallel-item:only-child::after {width: 0;}#sk-container-id-19 div.sk-dashed-wrapped {border: 1px dashed gray;margin: 0 0.4em 0.5em 0.4em;box-sizing: border-box;padding-bottom: 0.4em;background-color: white;}#sk-container-id-19 div.sk-label label {font-family: monospace;font-weight: bold;display: inline-block;line-height: 1.2em;}#sk-container-id-19 div.sk-label-container {text-align: center;}#sk-container-id-19 div.sk-container {/* jupyter's `normalize.less` sets `[hidden] { display: none; }` but bootstrap.min.css set `[hidden] { display: none !important; }` so we also need the `!important` here to be able to override the default hidden behavior on the sphinx rendered scikit-learn.org. See: https://github.com/scikit-learn/scikit-learn/issues/21755 */display: inline-block !important;position: relative;}#sk-container-id-19 div.sk-text-repr-fallback {display: none;}</style><div id=\"sk-container-id-19\" class=\"sk-top-container\"><div class=\"sk-text-repr-fallback\"><pre>LogisticRegression(random_state=0)</pre><b>In a Jupyter environment, please rerun this cell to show the HTML representation or trust the notebook. <br />On GitHub, the HTML representation is unable to render, please try loading this page with nbviewer.org.</b></div><div class=\"sk-container\" hidden><div class=\"sk-item\"><div class=\"sk-estimator sk-toggleable\"><input class=\"sk-toggleable__control sk-hidden--visually\" id=\"sk-estimator-id-19\" type=\"checkbox\" checked><label for=\"sk-estimator-id-19\" class=\"sk-toggleable__label sk-toggleable__label-arrow\">LogisticRegression</label><div class=\"sk-toggleable__content\"><pre>LogisticRegression(random_state=0)</pre></div></div></div></div></div>"
      ],
      "text/plain": [
       "LogisticRegression(random_state=0)"
      ]
     },
     "execution_count": 305,
     "metadata": {},
     "output_type": "execute_result"
    }
   ],
   "source": [
    "from sklearn.linear_model import LogisticRegression\n",
    "model=LogisticRegression(random_state=0)\n",
    "model.fit( x_train, y_train)"
   ]
  },
  {
   "cell_type": "code",
   "execution_count": 306,
   "id": "5ac2856c",
   "metadata": {},
   "outputs": [
    {
     "name": "stdout",
     "output_type": "stream",
     "text": [
      "0.6649484536082474\n"
     ]
    }
   ],
   "source": [
    "lx_train_predict=model.predict(x_train)\n",
    "laccuracy=accuracy_score(y_train,lx_train_predict)\n",
    "print(laccuracy)"
   ]
  },
  {
   "cell_type": "code",
   "execution_count": 307,
   "id": "4d39ed87",
   "metadata": {},
   "outputs": [
    {
     "name": "stdout",
     "output_type": "stream",
     "text": [
      "0.6326530612244898\n"
     ]
    }
   ],
   "source": [
    "y_test_predict=model.predict(x_test)\n",
    "laccuracy_test=accuracy_score(y_test,y_test_predict)\n",
    "print(laccuracy_test)\n"
   ]
  },
  {
   "attachments": {},
   "cell_type": "markdown",
   "id": "3017d474",
   "metadata": {},
   "source": [
    "decision tree classifier"
   ]
  },
  {
   "cell_type": "code",
   "execution_count": 308,
   "id": "b2c46aa0",
   "metadata": {},
   "outputs": [],
   "source": [
    "from sklearn import tree\n",
    "clf = tree.DecisionTreeClassifier()\n",
    "clf = clf.fit(x_train, y_train)\n"
   ]
  },
  {
   "cell_type": "code",
   "execution_count": 309,
   "id": "84ed0859",
   "metadata": {},
   "outputs": [
    {
     "name": "stdout",
     "output_type": "stream",
     "text": [
      "1.0\n"
     ]
    }
   ],
   "source": [
    "tx_train_predict=clf.predict(x_train)\n",
    "taccuracy=accuracy_score(y_train,tx_train_predict)\n",
    "print(taccuracy)"
   ]
  },
  {
   "cell_type": "code",
   "execution_count": 310,
   "id": "58d7534b",
   "metadata": {},
   "outputs": [
    {
     "name": "stdout",
     "output_type": "stream",
     "text": [
      "0.6326530612244898\n"
     ]
    }
   ],
   "source": [
    "ty_test_predict=clf.predict(x_test)\n",
    "taccuracy_test=accuracy_score(y_test,ty_test_predict)\n",
    "print(taccuracy_test)"
   ]
  },
  {
   "attachments": {},
   "cell_type": "markdown",
   "id": "1d767137",
   "metadata": {},
   "source": [
    "suppot vector machine"
   ]
  },
  {
   "cell_type": "code",
   "execution_count": 311,
   "id": "3109bf33",
   "metadata": {},
   "outputs": [
    {
     "data": {
      "text/html": [
       "<style>#sk-container-id-20 {color: black;background-color: white;}#sk-container-id-20 pre{padding: 0;}#sk-container-id-20 div.sk-toggleable {background-color: white;}#sk-container-id-20 label.sk-toggleable__label {cursor: pointer;display: block;width: 100%;margin-bottom: 0;padding: 0.3em;box-sizing: border-box;text-align: center;}#sk-container-id-20 label.sk-toggleable__label-arrow:before {content: \"▸\";float: left;margin-right: 0.25em;color: #696969;}#sk-container-id-20 label.sk-toggleable__label-arrow:hover:before {color: black;}#sk-container-id-20 div.sk-estimator:hover label.sk-toggleable__label-arrow:before {color: black;}#sk-container-id-20 div.sk-toggleable__content {max-height: 0;max-width: 0;overflow: hidden;text-align: left;background-color: #f0f8ff;}#sk-container-id-20 div.sk-toggleable__content pre {margin: 0.2em;color: black;border-radius: 0.25em;background-color: #f0f8ff;}#sk-container-id-20 input.sk-toggleable__control:checked~div.sk-toggleable__content {max-height: 200px;max-width: 100%;overflow: auto;}#sk-container-id-20 input.sk-toggleable__control:checked~label.sk-toggleable__label-arrow:before {content: \"▾\";}#sk-container-id-20 div.sk-estimator input.sk-toggleable__control:checked~label.sk-toggleable__label {background-color: #d4ebff;}#sk-container-id-20 div.sk-label input.sk-toggleable__control:checked~label.sk-toggleable__label {background-color: #d4ebff;}#sk-container-id-20 input.sk-hidden--visually {border: 0;clip: rect(1px 1px 1px 1px);clip: rect(1px, 1px, 1px, 1px);height: 1px;margin: -1px;overflow: hidden;padding: 0;position: absolute;width: 1px;}#sk-container-id-20 div.sk-estimator {font-family: monospace;background-color: #f0f8ff;border: 1px dotted black;border-radius: 0.25em;box-sizing: border-box;margin-bottom: 0.5em;}#sk-container-id-20 div.sk-estimator:hover {background-color: #d4ebff;}#sk-container-id-20 div.sk-parallel-item::after {content: \"\";width: 100%;border-bottom: 1px solid gray;flex-grow: 1;}#sk-container-id-20 div.sk-label:hover label.sk-toggleable__label {background-color: #d4ebff;}#sk-container-id-20 div.sk-serial::before {content: \"\";position: absolute;border-left: 1px solid gray;box-sizing: border-box;top: 0;bottom: 0;left: 50%;z-index: 0;}#sk-container-id-20 div.sk-serial {display: flex;flex-direction: column;align-items: center;background-color: white;padding-right: 0.2em;padding-left: 0.2em;position: relative;}#sk-container-id-20 div.sk-item {position: relative;z-index: 1;}#sk-container-id-20 div.sk-parallel {display: flex;align-items: stretch;justify-content: center;background-color: white;position: relative;}#sk-container-id-20 div.sk-item::before, #sk-container-id-20 div.sk-parallel-item::before {content: \"\";position: absolute;border-left: 1px solid gray;box-sizing: border-box;top: 0;bottom: 0;left: 50%;z-index: -1;}#sk-container-id-20 div.sk-parallel-item {display: flex;flex-direction: column;z-index: 1;position: relative;background-color: white;}#sk-container-id-20 div.sk-parallel-item:first-child::after {align-self: flex-end;width: 50%;}#sk-container-id-20 div.sk-parallel-item:last-child::after {align-self: flex-start;width: 50%;}#sk-container-id-20 div.sk-parallel-item:only-child::after {width: 0;}#sk-container-id-20 div.sk-dashed-wrapped {border: 1px dashed gray;margin: 0 0.4em 0.5em 0.4em;box-sizing: border-box;padding-bottom: 0.4em;background-color: white;}#sk-container-id-20 div.sk-label label {font-family: monospace;font-weight: bold;display: inline-block;line-height: 1.2em;}#sk-container-id-20 div.sk-label-container {text-align: center;}#sk-container-id-20 div.sk-container {/* jupyter's `normalize.less` sets `[hidden] { display: none; }` but bootstrap.min.css set `[hidden] { display: none !important; }` so we also need the `!important` here to be able to override the default hidden behavior on the sphinx rendered scikit-learn.org. See: https://github.com/scikit-learn/scikit-learn/issues/21755 */display: inline-block !important;position: relative;}#sk-container-id-20 div.sk-text-repr-fallback {display: none;}</style><div id=\"sk-container-id-20\" class=\"sk-top-container\"><div class=\"sk-text-repr-fallback\"><pre>SVC()</pre><b>In a Jupyter environment, please rerun this cell to show the HTML representation or trust the notebook. <br />On GitHub, the HTML representation is unable to render, please try loading this page with nbviewer.org.</b></div><div class=\"sk-container\" hidden><div class=\"sk-item\"><div class=\"sk-estimator sk-toggleable\"><input class=\"sk-toggleable__control sk-hidden--visually\" id=\"sk-estimator-id-20\" type=\"checkbox\" checked><label for=\"sk-estimator-id-20\" class=\"sk-toggleable__label sk-toggleable__label-arrow\">SVC</label><div class=\"sk-toggleable__content\"><pre>SVC()</pre></div></div></div></div></div>"
      ],
      "text/plain": [
       "SVC()"
      ]
     },
     "execution_count": 311,
     "metadata": {},
     "output_type": "execute_result"
    }
   ],
   "source": [
    "from sklearn import svm\n",
    "modelsvm=svm.SVC()\n",
    "modelsvm.fit(x_train,y_train)"
   ]
  },
  {
   "cell_type": "code",
   "execution_count": 312,
   "id": "bd54a5a4",
   "metadata": {},
   "outputs": [
    {
     "name": "stdout",
     "output_type": "stream",
     "text": [
      "0.654639175257732\n"
     ]
    }
   ],
   "source": [
    "sx_train_predict=modelsvm.predict(x_train)\n",
    "saccuracy=accuracy_score(y_train,sx_train_predict)\n",
    "print(saccuracy)"
   ]
  },
  {
   "cell_type": "code",
   "execution_count": 313,
   "id": "ff8188b7",
   "metadata": {},
   "outputs": [
    {
     "name": "stdout",
     "output_type": "stream",
     "text": [
      "0.673469387755102\n"
     ]
    }
   ],
   "source": [
    "sx_test_predict=modelsvm.predict(x_test)\n",
    "saccuracy_test=accuracy_score(y_test,sx_test_predict)\n",
    "print(saccuracy_test)"
   ]
  },
  {
   "attachments": {},
   "cell_type": "markdown",
   "id": "3bc4a581",
   "metadata": {},
   "source": [
    "random forest"
   ]
  },
  {
   "cell_type": "code",
   "execution_count": 314,
   "id": "a9479f60",
   "metadata": {},
   "outputs": [
    {
     "data": {
      "text/html": [
       "<style>#sk-container-id-21 {color: black;background-color: white;}#sk-container-id-21 pre{padding: 0;}#sk-container-id-21 div.sk-toggleable {background-color: white;}#sk-container-id-21 label.sk-toggleable__label {cursor: pointer;display: block;width: 100%;margin-bottom: 0;padding: 0.3em;box-sizing: border-box;text-align: center;}#sk-container-id-21 label.sk-toggleable__label-arrow:before {content: \"▸\";float: left;margin-right: 0.25em;color: #696969;}#sk-container-id-21 label.sk-toggleable__label-arrow:hover:before {color: black;}#sk-container-id-21 div.sk-estimator:hover label.sk-toggleable__label-arrow:before {color: black;}#sk-container-id-21 div.sk-toggleable__content {max-height: 0;max-width: 0;overflow: hidden;text-align: left;background-color: #f0f8ff;}#sk-container-id-21 div.sk-toggleable__content pre {margin: 0.2em;color: black;border-radius: 0.25em;background-color: #f0f8ff;}#sk-container-id-21 input.sk-toggleable__control:checked~div.sk-toggleable__content {max-height: 200px;max-width: 100%;overflow: auto;}#sk-container-id-21 input.sk-toggleable__control:checked~label.sk-toggleable__label-arrow:before {content: \"▾\";}#sk-container-id-21 div.sk-estimator input.sk-toggleable__control:checked~label.sk-toggleable__label {background-color: #d4ebff;}#sk-container-id-21 div.sk-label input.sk-toggleable__control:checked~label.sk-toggleable__label {background-color: #d4ebff;}#sk-container-id-21 input.sk-hidden--visually {border: 0;clip: rect(1px 1px 1px 1px);clip: rect(1px, 1px, 1px, 1px);height: 1px;margin: -1px;overflow: hidden;padding: 0;position: absolute;width: 1px;}#sk-container-id-21 div.sk-estimator {font-family: monospace;background-color: #f0f8ff;border: 1px dotted black;border-radius: 0.25em;box-sizing: border-box;margin-bottom: 0.5em;}#sk-container-id-21 div.sk-estimator:hover {background-color: #d4ebff;}#sk-container-id-21 div.sk-parallel-item::after {content: \"\";width: 100%;border-bottom: 1px solid gray;flex-grow: 1;}#sk-container-id-21 div.sk-label:hover label.sk-toggleable__label {background-color: #d4ebff;}#sk-container-id-21 div.sk-serial::before {content: \"\";position: absolute;border-left: 1px solid gray;box-sizing: border-box;top: 0;bottom: 0;left: 50%;z-index: 0;}#sk-container-id-21 div.sk-serial {display: flex;flex-direction: column;align-items: center;background-color: white;padding-right: 0.2em;padding-left: 0.2em;position: relative;}#sk-container-id-21 div.sk-item {position: relative;z-index: 1;}#sk-container-id-21 div.sk-parallel {display: flex;align-items: stretch;justify-content: center;background-color: white;position: relative;}#sk-container-id-21 div.sk-item::before, #sk-container-id-21 div.sk-parallel-item::before {content: \"\";position: absolute;border-left: 1px solid gray;box-sizing: border-box;top: 0;bottom: 0;left: 50%;z-index: -1;}#sk-container-id-21 div.sk-parallel-item {display: flex;flex-direction: column;z-index: 1;position: relative;background-color: white;}#sk-container-id-21 div.sk-parallel-item:first-child::after {align-self: flex-end;width: 50%;}#sk-container-id-21 div.sk-parallel-item:last-child::after {align-self: flex-start;width: 50%;}#sk-container-id-21 div.sk-parallel-item:only-child::after {width: 0;}#sk-container-id-21 div.sk-dashed-wrapped {border: 1px dashed gray;margin: 0 0.4em 0.5em 0.4em;box-sizing: border-box;padding-bottom: 0.4em;background-color: white;}#sk-container-id-21 div.sk-label label {font-family: monospace;font-weight: bold;display: inline-block;line-height: 1.2em;}#sk-container-id-21 div.sk-label-container {text-align: center;}#sk-container-id-21 div.sk-container {/* jupyter's `normalize.less` sets `[hidden] { display: none; }` but bootstrap.min.css set `[hidden] { display: none !important; }` so we also need the `!important` here to be able to override the default hidden behavior on the sphinx rendered scikit-learn.org. See: https://github.com/scikit-learn/scikit-learn/issues/21755 */display: inline-block !important;position: relative;}#sk-container-id-21 div.sk-text-repr-fallback {display: none;}</style><div id=\"sk-container-id-21\" class=\"sk-top-container\"><div class=\"sk-text-repr-fallback\"><pre>RandomForestClassifier(max_depth=2, random_state=0)</pre><b>In a Jupyter environment, please rerun this cell to show the HTML representation or trust the notebook. <br />On GitHub, the HTML representation is unable to render, please try loading this page with nbviewer.org.</b></div><div class=\"sk-container\" hidden><div class=\"sk-item\"><div class=\"sk-estimator sk-toggleable\"><input class=\"sk-toggleable__control sk-hidden--visually\" id=\"sk-estimator-id-21\" type=\"checkbox\" checked><label for=\"sk-estimator-id-21\" class=\"sk-toggleable__label sk-toggleable__label-arrow\">RandomForestClassifier</label><div class=\"sk-toggleable__content\"><pre>RandomForestClassifier(max_depth=2, random_state=0)</pre></div></div></div></div></div>"
      ],
      "text/plain": [
       "RandomForestClassifier(max_depth=2, random_state=0)"
      ]
     },
     "execution_count": 314,
     "metadata": {},
     "output_type": "execute_result"
    }
   ],
   "source": [
    "from sklearn.ensemble import RandomForestClassifier\n",
    "rmodel=RandomForestClassifier(max_depth=2,random_state=0,n_estimators=100)\n",
    "rmodel.fit(x_train,y_train)"
   ]
  },
  {
   "cell_type": "code",
   "execution_count": 315,
   "id": "d03b0e96",
   "metadata": {},
   "outputs": [
    {
     "name": "stdout",
     "output_type": "stream",
     "text": [
      "0.7010309278350515\n"
     ]
    }
   ],
   "source": [
    "rx_train_predict=rmodel.predict(x_train)\n",
    "raccruracy=accuracy_score(y_train,rx_train_predict)\n",
    "print(raccruracy)"
   ]
  },
  {
   "attachments": {},
   "cell_type": "markdown",
   "id": "c27b07a5",
   "metadata": {},
   "source": [
    "naive bayes"
   ]
  },
  {
   "cell_type": "code",
   "execution_count": 316,
   "id": "8add84f2",
   "metadata": {},
   "outputs": [
    {
     "data": {
      "text/html": [
       "<style>#sk-container-id-22 {color: black;background-color: white;}#sk-container-id-22 pre{padding: 0;}#sk-container-id-22 div.sk-toggleable {background-color: white;}#sk-container-id-22 label.sk-toggleable__label {cursor: pointer;display: block;width: 100%;margin-bottom: 0;padding: 0.3em;box-sizing: border-box;text-align: center;}#sk-container-id-22 label.sk-toggleable__label-arrow:before {content: \"▸\";float: left;margin-right: 0.25em;color: #696969;}#sk-container-id-22 label.sk-toggleable__label-arrow:hover:before {color: black;}#sk-container-id-22 div.sk-estimator:hover label.sk-toggleable__label-arrow:before {color: black;}#sk-container-id-22 div.sk-toggleable__content {max-height: 0;max-width: 0;overflow: hidden;text-align: left;background-color: #f0f8ff;}#sk-container-id-22 div.sk-toggleable__content pre {margin: 0.2em;color: black;border-radius: 0.25em;background-color: #f0f8ff;}#sk-container-id-22 input.sk-toggleable__control:checked~div.sk-toggleable__content {max-height: 200px;max-width: 100%;overflow: auto;}#sk-container-id-22 input.sk-toggleable__control:checked~label.sk-toggleable__label-arrow:before {content: \"▾\";}#sk-container-id-22 div.sk-estimator input.sk-toggleable__control:checked~label.sk-toggleable__label {background-color: #d4ebff;}#sk-container-id-22 div.sk-label input.sk-toggleable__control:checked~label.sk-toggleable__label {background-color: #d4ebff;}#sk-container-id-22 input.sk-hidden--visually {border: 0;clip: rect(1px 1px 1px 1px);clip: rect(1px, 1px, 1px, 1px);height: 1px;margin: -1px;overflow: hidden;padding: 0;position: absolute;width: 1px;}#sk-container-id-22 div.sk-estimator {font-family: monospace;background-color: #f0f8ff;border: 1px dotted black;border-radius: 0.25em;box-sizing: border-box;margin-bottom: 0.5em;}#sk-container-id-22 div.sk-estimator:hover {background-color: #d4ebff;}#sk-container-id-22 div.sk-parallel-item::after {content: \"\";width: 100%;border-bottom: 1px solid gray;flex-grow: 1;}#sk-container-id-22 div.sk-label:hover label.sk-toggleable__label {background-color: #d4ebff;}#sk-container-id-22 div.sk-serial::before {content: \"\";position: absolute;border-left: 1px solid gray;box-sizing: border-box;top: 0;bottom: 0;left: 50%;z-index: 0;}#sk-container-id-22 div.sk-serial {display: flex;flex-direction: column;align-items: center;background-color: white;padding-right: 0.2em;padding-left: 0.2em;position: relative;}#sk-container-id-22 div.sk-item {position: relative;z-index: 1;}#sk-container-id-22 div.sk-parallel {display: flex;align-items: stretch;justify-content: center;background-color: white;position: relative;}#sk-container-id-22 div.sk-item::before, #sk-container-id-22 div.sk-parallel-item::before {content: \"\";position: absolute;border-left: 1px solid gray;box-sizing: border-box;top: 0;bottom: 0;left: 50%;z-index: -1;}#sk-container-id-22 div.sk-parallel-item {display: flex;flex-direction: column;z-index: 1;position: relative;background-color: white;}#sk-container-id-22 div.sk-parallel-item:first-child::after {align-self: flex-end;width: 50%;}#sk-container-id-22 div.sk-parallel-item:last-child::after {align-self: flex-start;width: 50%;}#sk-container-id-22 div.sk-parallel-item:only-child::after {width: 0;}#sk-container-id-22 div.sk-dashed-wrapped {border: 1px dashed gray;margin: 0 0.4em 0.5em 0.4em;box-sizing: border-box;padding-bottom: 0.4em;background-color: white;}#sk-container-id-22 div.sk-label label {font-family: monospace;font-weight: bold;display: inline-block;line-height: 1.2em;}#sk-container-id-22 div.sk-label-container {text-align: center;}#sk-container-id-22 div.sk-container {/* jupyter's `normalize.less` sets `[hidden] { display: none; }` but bootstrap.min.css set `[hidden] { display: none !important; }` so we also need the `!important` here to be able to override the default hidden behavior on the sphinx rendered scikit-learn.org. See: https://github.com/scikit-learn/scikit-learn/issues/21755 */display: inline-block !important;position: relative;}#sk-container-id-22 div.sk-text-repr-fallback {display: none;}</style><div id=\"sk-container-id-22\" class=\"sk-top-container\"><div class=\"sk-text-repr-fallback\"><pre>GaussianNB()</pre><b>In a Jupyter environment, please rerun this cell to show the HTML representation or trust the notebook. <br />On GitHub, the HTML representation is unable to render, please try loading this page with nbviewer.org.</b></div><div class=\"sk-container\" hidden><div class=\"sk-item\"><div class=\"sk-estimator sk-toggleable\"><input class=\"sk-toggleable__control sk-hidden--visually\" id=\"sk-estimator-id-22\" type=\"checkbox\" checked><label for=\"sk-estimator-id-22\" class=\"sk-toggleable__label sk-toggleable__label-arrow\">GaussianNB</label><div class=\"sk-toggleable__content\"><pre>GaussianNB()</pre></div></div></div></div></div>"
      ],
      "text/plain": [
       "GaussianNB()"
      ]
     },
     "execution_count": 316,
     "metadata": {},
     "output_type": "execute_result"
    }
   ],
   "source": [
    "from sklearn.naive_bayes import GaussianNB\n",
    "gnb = GaussianNB()\n",
    "gnb.fit(x_train,y_train)\n"
   ]
  },
  {
   "cell_type": "code",
   "execution_count": 317,
   "id": "687eafe5",
   "metadata": {},
   "outputs": [
    {
     "name": "stdout",
     "output_type": "stream",
     "text": [
      "0.5927835051546392\n"
     ]
    }
   ],
   "source": [
    "nx_train_predict=gnb.predict(x_train)\n",
    "naccuracy_train=accuracy_score(y_train,nx_train_predict)\n",
    "print(naccuracy_train)"
   ]
  },
  {
   "cell_type": "code",
   "execution_count": 318,
   "id": "6100e368",
   "metadata": {},
   "outputs": [
    {
     "name": "stdout",
     "output_type": "stream",
     "text": [
      "0.6122448979591837\n"
     ]
    }
   ],
   "source": [
    "ny_test_predict=gnb.predict(x_test)\n",
    "naccuracy_test=accuracy_score(y_test,ny_test_predict)\n",
    "print(naccuracy_test)"
   ]
  }
 ],
 "metadata": {
  "kernelspec": {
   "display_name": "Python 3 (ipykernel)",
   "language": "python",
   "name": "python3"
  },
  "language_info": {
   "codemirror_mode": {
    "name": "ipython",
    "version": 3
   },
   "file_extension": ".py",
   "mimetype": "text/x-python",
   "name": "python",
   "nbconvert_exporter": "python",
   "pygments_lexer": "ipython3",
   "version": "3.10.7"
  }
 },
 "nbformat": 4,
 "nbformat_minor": 5
}
